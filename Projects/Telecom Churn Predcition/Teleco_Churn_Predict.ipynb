{
 "cells": [
  {
   "cell_type": "markdown",
   "metadata": {},
   "source": [
    "## 통신사 고객 이탈 예측"
   ]
  },
  {
   "cell_type": "markdown",
   "metadata": {},
   "source": [
    "- 데이터는 https://www.kaggle.com/blastchar/telco-customer-churn 를 참조\n",
    "- 본 데이터는 IBM Sample Data Sets에서 다운받아 공유된 것임.(https://www.ibm.com/communities/analytics/watson-analytics-blog/guide-to-sample-datasets/)\n",
    "- 특성은 21개, 레코드는 7,043개\n",
    "- 분석의 목적 : 왜 고객이 이탈하게 되는가? 이탈고객들의 특성은 어떠한가?"
   ]
  },
  {
   "cell_type": "code",
   "execution_count": 188,
   "metadata": {},
   "outputs": [],
   "source": [
    "import pandas as pd\n",
    "import numpy as np\n",
    "import seaborn as sns\n",
    "import matplotlib.pyplot as plt\n",
    "from sklearn import preprocessing\n",
    "from sklearn.model_selection import StratifiedKFold\n",
    "from sklearn.model_selection import cross_val_score\n",
    "from decimal import Decimal"
   ]
  },
  {
   "cell_type": "code",
   "execution_count": 189,
   "metadata": {},
   "outputs": [],
   "source": [
    "tele_data = pd.read_csv('C:/Users/mosunghoon/Documents/GitHub/Kaggle Analysis/Kaggle_Analysis/raw data warehouse/WA_Fn-UseC_-Telco-Customer-Churn.csv')"
   ]
  },
  {
   "cell_type": "code",
   "execution_count": 190,
   "metadata": {},
   "outputs": [
    {
     "data": {
      "text/html": [
       "<div>\n",
       "<style scoped>\n",
       "    .dataframe tbody tr th:only-of-type {\n",
       "        vertical-align: middle;\n",
       "    }\n",
       "\n",
       "    .dataframe tbody tr th {\n",
       "        vertical-align: top;\n",
       "    }\n",
       "\n",
       "    .dataframe thead th {\n",
       "        text-align: right;\n",
       "    }\n",
       "</style>\n",
       "<table border=\"1\" class=\"dataframe\">\n",
       "  <thead>\n",
       "    <tr style=\"text-align: right;\">\n",
       "      <th></th>\n",
       "      <th>customerID</th>\n",
       "      <th>gender</th>\n",
       "      <th>SeniorCitizen</th>\n",
       "      <th>Partner</th>\n",
       "      <th>Dependents</th>\n",
       "      <th>tenure</th>\n",
       "      <th>PhoneService</th>\n",
       "      <th>MultipleLines</th>\n",
       "      <th>InternetService</th>\n",
       "      <th>OnlineSecurity</th>\n",
       "      <th>...</th>\n",
       "      <th>DeviceProtection</th>\n",
       "      <th>TechSupport</th>\n",
       "      <th>StreamingTV</th>\n",
       "      <th>StreamingMovies</th>\n",
       "      <th>Contract</th>\n",
       "      <th>PaperlessBilling</th>\n",
       "      <th>PaymentMethod</th>\n",
       "      <th>MonthlyCharges</th>\n",
       "      <th>TotalCharges</th>\n",
       "      <th>Churn</th>\n",
       "    </tr>\n",
       "  </thead>\n",
       "  <tbody>\n",
       "    <tr>\n",
       "      <th>0</th>\n",
       "      <td>7590-VHVEG</td>\n",
       "      <td>Female</td>\n",
       "      <td>0</td>\n",
       "      <td>Yes</td>\n",
       "      <td>No</td>\n",
       "      <td>1</td>\n",
       "      <td>No</td>\n",
       "      <td>No phone service</td>\n",
       "      <td>DSL</td>\n",
       "      <td>No</td>\n",
       "      <td>...</td>\n",
       "      <td>No</td>\n",
       "      <td>No</td>\n",
       "      <td>No</td>\n",
       "      <td>No</td>\n",
       "      <td>Month-to-month</td>\n",
       "      <td>Yes</td>\n",
       "      <td>Electronic check</td>\n",
       "      <td>29.85</td>\n",
       "      <td>29.85</td>\n",
       "      <td>No</td>\n",
       "    </tr>\n",
       "    <tr>\n",
       "      <th>1</th>\n",
       "      <td>5575-GNVDE</td>\n",
       "      <td>Male</td>\n",
       "      <td>0</td>\n",
       "      <td>No</td>\n",
       "      <td>No</td>\n",
       "      <td>34</td>\n",
       "      <td>Yes</td>\n",
       "      <td>No</td>\n",
       "      <td>DSL</td>\n",
       "      <td>Yes</td>\n",
       "      <td>...</td>\n",
       "      <td>Yes</td>\n",
       "      <td>No</td>\n",
       "      <td>No</td>\n",
       "      <td>No</td>\n",
       "      <td>One year</td>\n",
       "      <td>No</td>\n",
       "      <td>Mailed check</td>\n",
       "      <td>56.95</td>\n",
       "      <td>1889.5</td>\n",
       "      <td>No</td>\n",
       "    </tr>\n",
       "    <tr>\n",
       "      <th>2</th>\n",
       "      <td>3668-QPYBK</td>\n",
       "      <td>Male</td>\n",
       "      <td>0</td>\n",
       "      <td>No</td>\n",
       "      <td>No</td>\n",
       "      <td>2</td>\n",
       "      <td>Yes</td>\n",
       "      <td>No</td>\n",
       "      <td>DSL</td>\n",
       "      <td>Yes</td>\n",
       "      <td>...</td>\n",
       "      <td>No</td>\n",
       "      <td>No</td>\n",
       "      <td>No</td>\n",
       "      <td>No</td>\n",
       "      <td>Month-to-month</td>\n",
       "      <td>Yes</td>\n",
       "      <td>Mailed check</td>\n",
       "      <td>53.85</td>\n",
       "      <td>108.15</td>\n",
       "      <td>Yes</td>\n",
       "    </tr>\n",
       "    <tr>\n",
       "      <th>3</th>\n",
       "      <td>7795-CFOCW</td>\n",
       "      <td>Male</td>\n",
       "      <td>0</td>\n",
       "      <td>No</td>\n",
       "      <td>No</td>\n",
       "      <td>45</td>\n",
       "      <td>No</td>\n",
       "      <td>No phone service</td>\n",
       "      <td>DSL</td>\n",
       "      <td>Yes</td>\n",
       "      <td>...</td>\n",
       "      <td>Yes</td>\n",
       "      <td>Yes</td>\n",
       "      <td>No</td>\n",
       "      <td>No</td>\n",
       "      <td>One year</td>\n",
       "      <td>No</td>\n",
       "      <td>Bank transfer (automatic)</td>\n",
       "      <td>42.30</td>\n",
       "      <td>1840.75</td>\n",
       "      <td>No</td>\n",
       "    </tr>\n",
       "    <tr>\n",
       "      <th>4</th>\n",
       "      <td>9237-HQITU</td>\n",
       "      <td>Female</td>\n",
       "      <td>0</td>\n",
       "      <td>No</td>\n",
       "      <td>No</td>\n",
       "      <td>2</td>\n",
       "      <td>Yes</td>\n",
       "      <td>No</td>\n",
       "      <td>Fiber optic</td>\n",
       "      <td>No</td>\n",
       "      <td>...</td>\n",
       "      <td>No</td>\n",
       "      <td>No</td>\n",
       "      <td>No</td>\n",
       "      <td>No</td>\n",
       "      <td>Month-to-month</td>\n",
       "      <td>Yes</td>\n",
       "      <td>Electronic check</td>\n",
       "      <td>70.70</td>\n",
       "      <td>151.65</td>\n",
       "      <td>Yes</td>\n",
       "    </tr>\n",
       "  </tbody>\n",
       "</table>\n",
       "<p>5 rows × 21 columns</p>\n",
       "</div>"
      ],
      "text/plain": [
       "   customerID  gender  SeniorCitizen Partner Dependents  tenure PhoneService  \\\n",
       "0  7590-VHVEG  Female              0     Yes         No       1           No   \n",
       "1  5575-GNVDE    Male              0      No         No      34          Yes   \n",
       "2  3668-QPYBK    Male              0      No         No       2          Yes   \n",
       "3  7795-CFOCW    Male              0      No         No      45           No   \n",
       "4  9237-HQITU  Female              0      No         No       2          Yes   \n",
       "\n",
       "      MultipleLines InternetService OnlineSecurity  ...  DeviceProtection  \\\n",
       "0  No phone service             DSL             No  ...                No   \n",
       "1                No             DSL            Yes  ...               Yes   \n",
       "2                No             DSL            Yes  ...                No   \n",
       "3  No phone service             DSL            Yes  ...               Yes   \n",
       "4                No     Fiber optic             No  ...                No   \n",
       "\n",
       "  TechSupport StreamingTV StreamingMovies        Contract PaperlessBilling  \\\n",
       "0          No          No              No  Month-to-month              Yes   \n",
       "1          No          No              No        One year               No   \n",
       "2          No          No              No  Month-to-month              Yes   \n",
       "3         Yes          No              No        One year               No   \n",
       "4          No          No              No  Month-to-month              Yes   \n",
       "\n",
       "               PaymentMethod MonthlyCharges  TotalCharges Churn  \n",
       "0           Electronic check          29.85         29.85    No  \n",
       "1               Mailed check          56.95        1889.5    No  \n",
       "2               Mailed check          53.85        108.15   Yes  \n",
       "3  Bank transfer (automatic)          42.30       1840.75    No  \n",
       "4           Electronic check          70.70        151.65   Yes  \n",
       "\n",
       "[5 rows x 21 columns]"
      ]
     },
     "execution_count": 190,
     "metadata": {},
     "output_type": "execute_result"
    }
   ],
   "source": [
    "tele_data.head()"
   ]
  },
  {
   "cell_type": "markdown",
   "metadata": {},
   "source": [
    "### 데이터 특성 설명\n",
    "- customerID : 고객 ID\n",
    "- gender : 성별 (Male / Female)\n",
    "- SeniorCitizen : 노년층 여부 (1, 0)\n",
    "- Partner : 결혼 여부 (Yes, No)\n",
    "- Dependents : 부양가족 여부 (Yes, No)\n",
    "- tenure : 고객 가입 이후 개월 수\n",
    "- PhoneService : 전화서비스 가입 여부 (Yes, No)\n",
    "- MultipleLines : 다중 전화선 사용 여부 (Yes, No, No Phone Service)\n",
    "- InternetService : 인터넷 연결 방식 (DSL, Fiber optic, No)\n",
    "- OnlineSecurity : 온라인 보안 서비스 사용 여부 (Yes, No, No internet service)\n",
    "- OnlineBackUp : 온라인 백업 서비스 사용 여부 (Yes, No, No internet service)\n",
    "- DeviceProtection : 기기 보험 가입 여부 (Yes, No, No internet service)\n",
    "- TechSupport : 인터넷 기술지원 서비스 가입 여부 (Yes, No, No internet service)\n",
    "- StreamingTV : TV 프로그램 Streaming 서비스 가입 여부 (Yes, No, No internet service)\n",
    "- StreamingMovies : 영화 Streaming 서비스 가입 여부 (Yes, No, No internet service)\n",
    "- Contract : 계약 형태 (Month-to-month, One year, Two year)\n",
    "- PaperlessBilling : 전자영수증 발급 여부 (Yes, No)\n",
    "- PaymentMethod : 결제 방법 (Electronic check, Mailed check, Bank transfer (automatic), Credit card (automatic))\n",
    "- MonthlyCharges : 월 지급 요금 \n",
    "- TotalCharges : 총 지급 요금 \n",
    "- Churn : 고객 이탈 여부 (Yes, No)"
   ]
  },
  {
   "cell_type": "code",
   "execution_count": 198,
   "metadata": {},
   "outputs": [],
   "source": [
    "def CreateGrp(tn):\n",
    "    if ((tn >= 0) & (tn <= 12)):\n",
    "        return('[0-12]')\n",
    "    elif ((tn > 12) & (tn <= 24)):\n",
    "        return('[12-24]')\n",
    "    elif ((tn > 24) & (tn <= 48)):\n",
    "        return('[24-48]')\n",
    "    elif ((tn > 48) & (tn <= 60)):\n",
    "        return('[48-60]')\n",
    "    else:\n",
    "        return('[> 60]')\n",
    "    \n",
    "tele_data['tenureBin'] = tele_data['tenure'].apply(lambda x: CreateGrp(x))"
   ]
  },
  {
   "cell_type": "code",
   "execution_count": 199,
   "metadata": {},
   "outputs": [
    {
     "data": {
      "text/plain": [
       "<matplotlib.axes._subplots.AxesSubplot at 0x1f7f4ae8320>"
      ]
     },
     "execution_count": 199,
     "metadata": {},
     "output_type": "execute_result"
    },
    {
     "data": {
      "image/png": "[encoded data removed]",
      "text/plain": [
       "<matplotlib.figure.Figure at 0x1f7f6ad7a58>"
      ]
     },
     "metadata": {},
     "output_type": "display_data"
    }
   ],
   "source": [
    "plt.figure(figsize = (10,10))\n",
    "tele_data['tenureBin'].value_counts().plot(kind='bar')"
   ]
  },
  {
   "cell_type": "code",
   "execution_count": 28,
   "metadata": {},
   "outputs": [],
   "source": [
    "%matplotlib inline"
   ]
  },
  {
   "cell_type": "code",
   "execution_count": 197,
   "metadata": {},
   "outputs": [],
   "source": [
    "def plotStackChart(df, col1, col2 ):\n",
    "    plt.figure(figsize = (15,15))\n",
    "    df = df.groupby([col1, col2])[col2].count().fillna(0).groupby(level=[0]).apply(lambda x: x / x.sum()).unstack(col2)\n",
    "    df.plot(kind='bar', color=colors, stacked=True, title = 'Customer churn by tenure')"
   ]
  },
  {
   "cell_type": "code",
   "execution_count": 30,
   "metadata": {},
   "outputs": [],
   "source": [
    "colors = [\"#d0d0d0\", \"#E69F00\"]"
   ]
  },
  {
   "cell_type": "code",
   "execution_count": 31,
   "metadata": {},
   "outputs": [
    {
     "data": {
      "text/plain": [
       "<matplotlib.figure.Figure at 0x1f7ece11dd8>"
      ]
     },
     "metadata": {},
     "output_type": "display_data"
    },
    {
     "data": {
      "image/png": "[encoded data removed]",
      "text/plain": [
       "<matplotlib.figure.Figure at 0x1f7ec5762e8>"
      ]
     },
     "metadata": {},
     "output_type": "display_data"
    }
   ],
   "source": [
    "plotStackChart(tele_data, 'tenureBin', 'Churn')"
   ]
  },
  {
   "cell_type": "markdown",
   "metadata": {},
   "source": [
    "- 데이터 타입 확인 시, 연속형 데이터이어야 할 TotalCharges의 속성이 명목형 데이터로 되어있음. 이를 float형태로 바꿔야 함.\n",
    "- SeniorCitizen 속성은 반대로 명목형인데 int 형식으로 인식되어 있음. 이를 명목형으로 전환해야함."
   ]
  },
  {
   "cell_type": "code",
   "execution_count": 191,
   "metadata": {},
   "outputs": [],
   "source": [
    "tele_data['TotalCharges'] = tele_data['TotalCharges'].apply(pd.to_numeric, errors='coerce')"
   ]
  },
  {
   "cell_type": "code",
   "execution_count": 192,
   "metadata": {},
   "outputs": [],
   "source": [
    "tele_data = tele_data.dropna(axis=0)"
   ]
  },
  {
   "cell_type": "code",
   "execution_count": 86,
   "metadata": {},
   "outputs": [],
   "source": [
    "#더미 변환\n",
    "cols = ['gender','SeniorCitizen','Partner','Dependents','PhoneService',\n",
    "       'MultipleLines','InternetService','OnlineSecurity','OnlineBackup','DeviceProtection',\n",
    "       'TechSupport','StreamingTV','StreamingMovies','Contract','PaperlessBilling','PaymentMethod',\n",
    "       'Churn']\n",
    "for i in cols:\n",
    "    pd.get_dummies(tele_data[i])"
   ]
  },
  {
   "cell_type": "code",
   "execution_count": 182,
   "metadata": {},
   "outputs": [],
   "source": [
    "# dummy 전환\n",
    "tele_data.gender.replace(('Male', 'Female'),(0, 1), inplace=True)\n",
    "tele_data.Partner.replace(('Yes', 'No'),(1, 0), inplace=True)\n",
    "tele_data.Dependents.replace(('Yes', 'No'),(1, 0), inplace=True)\n",
    "tele_data.MultipleLines.replace(('Yes', 'No', 'No phone service'),(2, 1, 0), inplace=True)\n",
    "tele_data.InternetService.replace(('DSL', 'Fiber optic', 'No'),(1, 2, 0), inplace=True)\n",
    "tele_data.OnlineSecurity.replace(('Yes', 'No', 'No internet service'),(2, 1, 0), inplace=True)\n",
    "tele_data.OnlineBackup.replace(('Yes', 'No','No internet service'),(2, 1, 0), inplace=True)\n",
    "tele_data.DeviceProtection.replace(('Yes', 'No','No internet service'),(2, 1, 0), inplace=True)\n",
    "tele_data.TechSupport.replace(('Yes', 'No','No internet service'),(2, 1, 0), inplace=True)\n",
    "tele_data.StreamingTV.replace(('Yes', 'No','No internet service'),(2, 1, 0), inplace=True)\n",
    "tele_data.StreamingMovies.replace(('Yes', 'No','No internet service'),(2, 1, 0), inplace=True)\n",
    "tele_data.PhoneService.replace(('Yes', 'No'),(1, 0), inplace=True)\n",
    "tele_data.Contract.replace(('Month-to-month', 'One year', 'Two year'),(0, 1, 2), inplace=True)\n",
    "tele_data.PaperlessBilling.replace(('Yes', 'No'),(1, 0), inplace=True)\n",
    "tele_data.PaymentMethod.replace(('Electronic check', 'Mailed check', 'Bank transfer (automatic)',\n",
    "                                 'Credit card (automatic)'),(1, 2, 3, 4), inplace=True)\n",
    "tele_data.Churn.replace(('Yes', 'No'),(1, 0), inplace=True)"
   ]
  },
  {
   "cell_type": "code",
   "execution_count": 88,
   "metadata": {},
   "outputs": [
    {
     "data": {
      "text/html": [
       "<div>\n",
       "<style scoped>\n",
       "    .dataframe tbody tr th:only-of-type {\n",
       "        vertical-align: middle;\n",
       "    }\n",
       "\n",
       "    .dataframe tbody tr th {\n",
       "        vertical-align: top;\n",
       "    }\n",
       "\n",
       "    .dataframe thead th {\n",
       "        text-align: right;\n",
       "    }\n",
       "</style>\n",
       "<table border=\"1\" class=\"dataframe\">\n",
       "  <thead>\n",
       "    <tr style=\"text-align: right;\">\n",
       "      <th></th>\n",
       "      <th>customerID</th>\n",
       "      <th>gender</th>\n",
       "      <th>SeniorCitizen</th>\n",
       "      <th>Partner</th>\n",
       "      <th>Dependents</th>\n",
       "      <th>tenure</th>\n",
       "      <th>PhoneService</th>\n",
       "      <th>MultipleLines</th>\n",
       "      <th>InternetService</th>\n",
       "      <th>OnlineSecurity</th>\n",
       "      <th>...</th>\n",
       "      <th>DeviceProtection</th>\n",
       "      <th>TechSupport</th>\n",
       "      <th>StreamingTV</th>\n",
       "      <th>StreamingMovies</th>\n",
       "      <th>Contract</th>\n",
       "      <th>PaperlessBilling</th>\n",
       "      <th>PaymentMethod</th>\n",
       "      <th>MonthlyCharges</th>\n",
       "      <th>TotalCharges</th>\n",
       "      <th>Churn</th>\n",
       "    </tr>\n",
       "  </thead>\n",
       "  <tbody>\n",
       "    <tr>\n",
       "      <th>0</th>\n",
       "      <td>7590-VHVEG</td>\n",
       "      <td>1</td>\n",
       "      <td>0</td>\n",
       "      <td>1</td>\n",
       "      <td>0</td>\n",
       "      <td>1</td>\n",
       "      <td>0</td>\n",
       "      <td>0</td>\n",
       "      <td>1</td>\n",
       "      <td>1</td>\n",
       "      <td>...</td>\n",
       "      <td>1</td>\n",
       "      <td>1</td>\n",
       "      <td>1</td>\n",
       "      <td>1</td>\n",
       "      <td>0</td>\n",
       "      <td>1</td>\n",
       "      <td>1</td>\n",
       "      <td>29.85</td>\n",
       "      <td>29.85</td>\n",
       "      <td>0</td>\n",
       "    </tr>\n",
       "    <tr>\n",
       "      <th>1</th>\n",
       "      <td>5575-GNVDE</td>\n",
       "      <td>0</td>\n",
       "      <td>0</td>\n",
       "      <td>0</td>\n",
       "      <td>0</td>\n",
       "      <td>34</td>\n",
       "      <td>1</td>\n",
       "      <td>1</td>\n",
       "      <td>1</td>\n",
       "      <td>2</td>\n",
       "      <td>...</td>\n",
       "      <td>2</td>\n",
       "      <td>1</td>\n",
       "      <td>1</td>\n",
       "      <td>1</td>\n",
       "      <td>1</td>\n",
       "      <td>0</td>\n",
       "      <td>2</td>\n",
       "      <td>56.95</td>\n",
       "      <td>1889.50</td>\n",
       "      <td>0</td>\n",
       "    </tr>\n",
       "    <tr>\n",
       "      <th>2</th>\n",
       "      <td>3668-QPYBK</td>\n",
       "      <td>0</td>\n",
       "      <td>0</td>\n",
       "      <td>0</td>\n",
       "      <td>0</td>\n",
       "      <td>2</td>\n",
       "      <td>1</td>\n",
       "      <td>1</td>\n",
       "      <td>1</td>\n",
       "      <td>2</td>\n",
       "      <td>...</td>\n",
       "      <td>1</td>\n",
       "      <td>1</td>\n",
       "      <td>1</td>\n",
       "      <td>1</td>\n",
       "      <td>0</td>\n",
       "      <td>1</td>\n",
       "      <td>2</td>\n",
       "      <td>53.85</td>\n",
       "      <td>108.15</td>\n",
       "      <td>1</td>\n",
       "    </tr>\n",
       "    <tr>\n",
       "      <th>3</th>\n",
       "      <td>7795-CFOCW</td>\n",
       "      <td>0</td>\n",
       "      <td>0</td>\n",
       "      <td>0</td>\n",
       "      <td>0</td>\n",
       "      <td>45</td>\n",
       "      <td>0</td>\n",
       "      <td>0</td>\n",
       "      <td>1</td>\n",
       "      <td>2</td>\n",
       "      <td>...</td>\n",
       "      <td>2</td>\n",
       "      <td>2</td>\n",
       "      <td>1</td>\n",
       "      <td>1</td>\n",
       "      <td>1</td>\n",
       "      <td>0</td>\n",
       "      <td>3</td>\n",
       "      <td>42.30</td>\n",
       "      <td>1840.75</td>\n",
       "      <td>0</td>\n",
       "    </tr>\n",
       "    <tr>\n",
       "      <th>4</th>\n",
       "      <td>9237-HQITU</td>\n",
       "      <td>1</td>\n",
       "      <td>0</td>\n",
       "      <td>0</td>\n",
       "      <td>0</td>\n",
       "      <td>2</td>\n",
       "      <td>1</td>\n",
       "      <td>1</td>\n",
       "      <td>2</td>\n",
       "      <td>1</td>\n",
       "      <td>...</td>\n",
       "      <td>1</td>\n",
       "      <td>1</td>\n",
       "      <td>1</td>\n",
       "      <td>1</td>\n",
       "      <td>0</td>\n",
       "      <td>1</td>\n",
       "      <td>1</td>\n",
       "      <td>70.70</td>\n",
       "      <td>151.65</td>\n",
       "      <td>1</td>\n",
       "    </tr>\n",
       "  </tbody>\n",
       "</table>\n",
       "<p>5 rows × 21 columns</p>\n",
       "</div>"
      ],
      "text/plain": [
       "   customerID  gender  SeniorCitizen  Partner  Dependents  tenure  \\\n",
       "0  7590-VHVEG       1              0        1           0       1   \n",
       "1  5575-GNVDE       0              0        0           0      34   \n",
       "2  3668-QPYBK       0              0        0           0       2   \n",
       "3  7795-CFOCW       0              0        0           0      45   \n",
       "4  9237-HQITU       1              0        0           0       2   \n",
       "\n",
       "   PhoneService  MultipleLines  InternetService  OnlineSecurity  ...    \\\n",
       "0             0              0                1               1  ...     \n",
       "1             1              1                1               2  ...     \n",
       "2             1              1                1               2  ...     \n",
       "3             0              0                1               2  ...     \n",
       "4             1              1                2               1  ...     \n",
       "\n",
       "   DeviceProtection  TechSupport  StreamingTV  StreamingMovies  Contract  \\\n",
       "0                 1            1            1                1         0   \n",
       "1                 2            1            1                1         1   \n",
       "2                 1            1            1                1         0   \n",
       "3                 2            2            1                1         1   \n",
       "4                 1            1            1                1         0   \n",
       "\n",
       "   PaperlessBilling  PaymentMethod  MonthlyCharges  TotalCharges  Churn  \n",
       "0                 1              1           29.85         29.85      0  \n",
       "1                 0              2           56.95       1889.50      0  \n",
       "2                 1              2           53.85        108.15      1  \n",
       "3                 0              3           42.30       1840.75      0  \n",
       "4                 1              1           70.70        151.65      1  \n",
       "\n",
       "[5 rows x 21 columns]"
      ]
     },
     "execution_count": 88,
     "metadata": {},
     "output_type": "execute_result"
    }
   ],
   "source": [
    "tele_data.head()"
   ]
  },
  {
   "cell_type": "code",
   "execution_count": 186,
   "metadata": {},
   "outputs": [],
   "source": [
    "tele_data = tele_data.drop('customerID',1)"
   ]
  },
  {
   "cell_type": "code",
   "execution_count": 60,
   "metadata": {},
   "outputs": [
    {
     "data": {
      "image/png": "[encoded data removed]",
      "text/plain": [
       "<matplotlib.figure.Figure at 0x1f7ee07ff98>"
      ]
     },
     "metadata": {},
     "output_type": "display_data"
    }
   ],
   "source": [
    "fig = plt.figure(figsize=(15,10))\n",
    "corr = tele_data.corr(method = 'pearson')\n",
    "sns.heatmap(corr, cmap=\"YlGnBu\")\n",
    "plt.show()"
   ]
  },
  {
   "cell_type": "code",
   "execution_count": 12,
   "metadata": {},
   "outputs": [
    {
     "name": "stdout",
     "output_type": "stream",
     "text": [
      "tenure            TotalCharges        0.825880\n",
      "TotalCharges      tenure              0.825880\n",
      "TechSupport       StreamingTV         0.703306\n",
      "                  StreamingMovies     0.704595\n",
      "                  OnlineSecurity      0.734696\n",
      "                  OnlineBackup        0.708659\n",
      "                  DeviceProtection    0.724817\n",
      "StreamingTV       TechSupport         0.703306\n",
      "                  StreamingMovies     0.807118\n",
      "                  OnlineBackup        0.702605\n",
      "                  MonthlyCharges      0.820193\n",
      "                  InternetService     0.725522\n",
      "                  DeviceProtection    0.747489\n",
      "StreamingMovies   TechSupport         0.704595\n",
      "                  StreamingTV         0.807118\n",
      "                  MonthlyCharges      0.817525\n",
      "                  InternetService     0.722592\n",
      "                  DeviceProtection    0.752755\n",
      "OnlineSecurity    TechSupport         0.734696\n",
      "                  OnlineBackup        0.704598\n",
      "                  DeviceProtection    0.701112\n",
      "OnlineBackup      TechSupport         0.708659\n",
      "                  StreamingTV         0.702605\n",
      "                  OnlineSecurity      0.704598\n",
      "                  MonthlyCharges      0.710175\n",
      "                  DeviceProtection    0.710790\n",
      "MonthlyCharges    StreamingTV         0.820193\n",
      "                  StreamingMovies     0.817525\n",
      "                  OnlineBackup        0.710175\n",
      "                  InternetService     0.905389\n",
      "                  DeviceProtection    0.736925\n",
      "InternetService   StreamingTV         0.725522\n",
      "                  StreamingMovies     0.722592\n",
      "                  MonthlyCharges      0.905389\n",
      "DeviceProtection  TechSupport         0.724817\n",
      "                  StreamingTV         0.747489\n",
      "                  StreamingMovies     0.752755\n",
      "                  OnlineSecurity      0.701112\n",
      "                  OnlineBackup        0.710790\n",
      "                  MonthlyCharges      0.736925\n",
      "dtype: float64\n"
     ]
    }
   ],
   "source": [
    "corr_stack = corr.abs().unstack()\n",
    "ordered_stack = corr_stack.sort_index(ascending=False)\n",
    "order_corr = []\n",
    "\n",
    "for num in range(len(ordered_stack)):\n",
    "    if ordered_stack[num] > 0.7 and ordered_stack[num] < 1.0:\n",
    "        order_corr.append(num)\n",
    "        \n",
    "print(ordered_stack[order_corr])"
   ]
  },
  {
   "cell_type": "code",
   "execution_count": 13,
   "metadata": {},
   "outputs": [
    {
     "data": {
      "text/plain": [
       "tenure            TotalCharges        0.825880\n",
       "TotalCharges      tenure              0.825880\n",
       "TechSupport       StreamingTV         0.703306\n",
       "                  StreamingMovies     0.704595\n",
       "                  OnlineSecurity      0.734696\n",
       "                  OnlineBackup        0.708659\n",
       "                  DeviceProtection    0.724817\n",
       "StreamingTV       TechSupport         0.703306\n",
       "                  StreamingMovies     0.807118\n",
       "                  OnlineBackup        0.702605\n",
       "                  MonthlyCharges      0.820193\n",
       "                  InternetService     0.725522\n",
       "                  DeviceProtection    0.747489\n",
       "StreamingMovies   TechSupport         0.704595\n",
       "                  StreamingTV         0.807118\n",
       "                  MonthlyCharges      0.817525\n",
       "                  InternetService     0.722592\n",
       "                  DeviceProtection    0.752755\n",
       "OnlineSecurity    TechSupport         0.734696\n",
       "                  OnlineBackup        0.704598\n",
       "                  DeviceProtection    0.701112\n",
       "OnlineBackup      TechSupport         0.708659\n",
       "                  StreamingTV         0.702605\n",
       "                  OnlineSecurity      0.704598\n",
       "                  MonthlyCharges      0.710175\n",
       "                  DeviceProtection    0.710790\n",
       "MonthlyCharges    StreamingTV         0.820193\n",
       "                  StreamingMovies     0.817525\n",
       "                  OnlineBackup        0.710175\n",
       "                  InternetService     0.905389\n",
       "                  DeviceProtection    0.736925\n",
       "InternetService   StreamingTV         0.725522\n",
       "                  StreamingMovies     0.722592\n",
       "                  MonthlyCharges      0.905389\n",
       "DeviceProtection  TechSupport         0.724817\n",
       "                  StreamingTV         0.747489\n",
       "                  StreamingMovies     0.752755\n",
       "                  OnlineSecurity      0.701112\n",
       "                  OnlineBackup        0.710790\n",
       "                  MonthlyCharges      0.736925\n",
       "dtype: float64"
      ]
     },
     "execution_count": 13,
     "metadata": {},
     "output_type": "execute_result"
    }
   ],
   "source": [
    "ordered_stack[order_corr]"
   ]
  },
  {
   "cell_type": "code",
   "execution_count": 160,
   "metadata": {},
   "outputs": [
    {
     "data": {
      "text/html": [
       "<div>\n",
       "<style scoped>\n",
       "    .dataframe tbody tr th:only-of-type {\n",
       "        vertical-align: middle;\n",
       "    }\n",
       "\n",
       "    .dataframe tbody tr th {\n",
       "        vertical-align: top;\n",
       "    }\n",
       "\n",
       "    .dataframe thead th {\n",
       "        text-align: right;\n",
       "    }\n",
       "</style>\n",
       "<table border=\"1\" class=\"dataframe\">\n",
       "  <thead>\n",
       "    <tr style=\"text-align: right;\">\n",
       "      <th></th>\n",
       "      <th>gender</th>\n",
       "      <th>SeniorCitizen</th>\n",
       "      <th>Partner</th>\n",
       "      <th>Dependents</th>\n",
       "      <th>tenure</th>\n",
       "      <th>PhoneService</th>\n",
       "      <th>MultipleLines</th>\n",
       "      <th>InternetService</th>\n",
       "      <th>OnlineSecurity</th>\n",
       "      <th>OnlineBackup</th>\n",
       "      <th>DeviceProtection</th>\n",
       "      <th>TechSupport</th>\n",
       "      <th>StreamingTV</th>\n",
       "      <th>StreamingMovies</th>\n",
       "      <th>Contract</th>\n",
       "      <th>PaperlessBilling</th>\n",
       "      <th>PaymentMethod</th>\n",
       "      <th>MonthlyCharges</th>\n",
       "      <th>TotalCharges</th>\n",
       "      <th>Churn</th>\n",
       "    </tr>\n",
       "  </thead>\n",
       "  <tbody>\n",
       "    <tr>\n",
       "      <th>gender</th>\n",
       "      <td>1.000000</td>\n",
       "      <td>0.001819</td>\n",
       "      <td>0.001379</td>\n",
       "      <td>-0.010349</td>\n",
       "      <td>-0.005285</td>\n",
       "      <td>0.007515</td>\n",
       "      <td>0.010284</td>\n",
       "      <td>0.009643</td>\n",
       "      <td>0.013233</td>\n",
       "      <td>0.011081</td>\n",
       "      <td>0.003168</td>\n",
       "      <td>0.008215</td>\n",
       "      <td>0.007163</td>\n",
       "      <td>0.009072</td>\n",
       "      <td>-0.000095</td>\n",
       "      <td>0.011902</td>\n",
       "      <td>0.004928</td>\n",
       "      <td>0.013779</td>\n",
       "      <td>-0.000048</td>\n",
       "      <td>0.008545</td>\n",
       "    </tr>\n",
       "    <tr>\n",
       "      <th>SeniorCitizen</th>\n",
       "      <td>0.001819</td>\n",
       "      <td>1.000000</td>\n",
       "      <td>0.016957</td>\n",
       "      <td>-0.210550</td>\n",
       "      <td>0.015683</td>\n",
       "      <td>0.008392</td>\n",
       "      <td>0.113769</td>\n",
       "      <td>0.259030</td>\n",
       "      <td>0.081766</td>\n",
       "      <td>0.144762</td>\n",
       "      <td>0.140226</td>\n",
       "      <td>0.067318</td>\n",
       "      <td>0.167123</td>\n",
       "      <td>0.176125</td>\n",
       "      <td>-0.141820</td>\n",
       "      <td>0.156258</td>\n",
       "      <td>-0.093712</td>\n",
       "      <td>0.219874</td>\n",
       "      <td>0.102411</td>\n",
       "      <td>0.150541</td>\n",
       "    </tr>\n",
       "    <tr>\n",
       "      <th>Partner</th>\n",
       "      <td>0.001379</td>\n",
       "      <td>0.016957</td>\n",
       "      <td>1.000000</td>\n",
       "      <td>0.452269</td>\n",
       "      <td>0.381912</td>\n",
       "      <td>0.018397</td>\n",
       "      <td>0.118037</td>\n",
       "      <td>0.000938</td>\n",
       "      <td>0.092034</td>\n",
       "      <td>0.091536</td>\n",
       "      <td>0.099077</td>\n",
       "      <td>0.077252</td>\n",
       "      <td>0.080205</td>\n",
       "      <td>0.076076</td>\n",
       "      <td>0.294094</td>\n",
       "      <td>-0.013957</td>\n",
       "      <td>0.133280</td>\n",
       "      <td>0.097825</td>\n",
       "      <td>0.319072</td>\n",
       "      <td>-0.149982</td>\n",
       "    </tr>\n",
       "    <tr>\n",
       "      <th>Dependents</th>\n",
       "      <td>-0.010349</td>\n",
       "      <td>-0.210550</td>\n",
       "      <td>0.452269</td>\n",
       "      <td>1.000000</td>\n",
       "      <td>0.163386</td>\n",
       "      <td>-0.001078</td>\n",
       "      <td>-0.019178</td>\n",
       "      <td>-0.177789</td>\n",
       "      <td>-0.028964</td>\n",
       "      <td>-0.061970</td>\n",
       "      <td>-0.068296</td>\n",
       "      <td>-0.040057</td>\n",
       "      <td>-0.085909</td>\n",
       "      <td>-0.099795</td>\n",
       "      <td>0.240556</td>\n",
       "      <td>-0.110131</td>\n",
       "      <td>0.124002</td>\n",
       "      <td>-0.112343</td>\n",
       "      <td>0.064653</td>\n",
       "      <td>-0.163128</td>\n",
       "    </tr>\n",
       "    <tr>\n",
       "      <th>tenure</th>\n",
       "      <td>-0.005285</td>\n",
       "      <td>0.015683</td>\n",
       "      <td>0.381912</td>\n",
       "      <td>0.163386</td>\n",
       "      <td>1.000000</td>\n",
       "      <td>0.007877</td>\n",
       "      <td>0.259112</td>\n",
       "      <td>0.031272</td>\n",
       "      <td>0.232295</td>\n",
       "      <td>0.253575</td>\n",
       "      <td>0.253834</td>\n",
       "      <td>0.230429</td>\n",
       "      <td>0.200646</td>\n",
       "      <td>0.203834</td>\n",
       "      <td>0.676734</td>\n",
       "      <td>0.004823</td>\n",
       "      <td>0.340939</td>\n",
       "      <td>0.246862</td>\n",
       "      <td>0.825880</td>\n",
       "      <td>-0.354049</td>\n",
       "    </tr>\n",
       "    <tr>\n",
       "      <th>PhoneService</th>\n",
       "      <td>0.007515</td>\n",
       "      <td>0.008392</td>\n",
       "      <td>0.018397</td>\n",
       "      <td>-0.001078</td>\n",
       "      <td>0.007877</td>\n",
       "      <td>1.000000</td>\n",
       "      <td>0.674824</td>\n",
       "      <td>0.094182</td>\n",
       "      <td>-0.158997</td>\n",
       "      <td>-0.129432</td>\n",
       "      <td>-0.141055</td>\n",
       "      <td>-0.160950</td>\n",
       "      <td>-0.107242</td>\n",
       "      <td>-0.114798</td>\n",
       "      <td>0.003019</td>\n",
       "      <td>0.016696</td>\n",
       "      <td>-0.003106</td>\n",
       "      <td>0.248033</td>\n",
       "      <td>0.113008</td>\n",
       "      <td>0.011691</td>\n",
       "    </tr>\n",
       "    <tr>\n",
       "      <th>MultipleLines</th>\n",
       "      <td>0.010284</td>\n",
       "      <td>0.113769</td>\n",
       "      <td>0.118037</td>\n",
       "      <td>-0.019178</td>\n",
       "      <td>0.259112</td>\n",
       "      <td>0.674824</td>\n",
       "      <td>1.000000</td>\n",
       "      <td>0.308546</td>\n",
       "      <td>0.069959</td>\n",
       "      <td>0.130978</td>\n",
       "      <td>0.125447</td>\n",
       "      <td>0.069706</td>\n",
       "      <td>0.166256</td>\n",
       "      <td>0.163218</td>\n",
       "      <td>0.084037</td>\n",
       "      <td>0.133538</td>\n",
       "      <td>0.026248</td>\n",
       "      <td>0.491412</td>\n",
       "      <td>0.412495</td>\n",
       "      <td>0.036148</td>\n",
       "    </tr>\n",
       "    <tr>\n",
       "      <th>InternetService</th>\n",
       "      <td>0.009643</td>\n",
       "      <td>0.259030</td>\n",
       "      <td>0.000938</td>\n",
       "      <td>-0.177789</td>\n",
       "      <td>0.031272</td>\n",
       "      <td>0.094182</td>\n",
       "      <td>0.308546</td>\n",
       "      <td>1.000000</td>\n",
       "      <td>0.581993</td>\n",
       "      <td>0.658487</td>\n",
       "      <td>0.662791</td>\n",
       "      <td>0.585745</td>\n",
       "      <td>0.725522</td>\n",
       "      <td>0.722592</td>\n",
       "      <td>-0.288855</td>\n",
       "      <td>0.377644</td>\n",
       "      <td>-0.178655</td>\n",
       "      <td>0.905389</td>\n",
       "      <td>0.428212</td>\n",
       "      <td>0.316350</td>\n",
       "    </tr>\n",
       "    <tr>\n",
       "      <th>OnlineSecurity</th>\n",
       "      <td>0.013233</td>\n",
       "      <td>0.081766</td>\n",
       "      <td>0.092034</td>\n",
       "      <td>-0.028964</td>\n",
       "      <td>0.232295</td>\n",
       "      <td>-0.158997</td>\n",
       "      <td>0.069959</td>\n",
       "      <td>0.581993</td>\n",
       "      <td>1.000000</td>\n",
       "      <td>0.704598</td>\n",
       "      <td>0.701112</td>\n",
       "      <td>0.734696</td>\n",
       "      <td>0.661541</td>\n",
       "      <td>0.666682</td>\n",
       "      <td>0.016495</td>\n",
       "      <td>0.184449</td>\n",
       "      <td>0.035563</td>\n",
       "      <td>0.635260</td>\n",
       "      <td>0.483157</td>\n",
       "      <td>0.023014</td>\n",
       "    </tr>\n",
       "    <tr>\n",
       "      <th>OnlineBackup</th>\n",
       "      <td>0.011081</td>\n",
       "      <td>0.144762</td>\n",
       "      <td>0.091536</td>\n",
       "      <td>-0.061970</td>\n",
       "      <td>0.253575</td>\n",
       "      <td>-0.129432</td>\n",
       "      <td>0.130978</td>\n",
       "      <td>0.658487</td>\n",
       "      <td>0.704598</td>\n",
       "      <td>1.000000</td>\n",
       "      <td>0.710790</td>\n",
       "      <td>0.708659</td>\n",
       "      <td>0.702605</td>\n",
       "      <td>0.699828</td>\n",
       "      <td>-0.034745</td>\n",
       "      <td>0.260691</td>\n",
       "      <td>-0.003786</td>\n",
       "      <td>0.710175</td>\n",
       "      <td>0.537726</td>\n",
       "      <td>0.073934</td>\n",
       "    </tr>\n",
       "    <tr>\n",
       "      <th>DeviceProtection</th>\n",
       "      <td>0.003168</td>\n",
       "      <td>0.140226</td>\n",
       "      <td>0.099077</td>\n",
       "      <td>-0.068296</td>\n",
       "      <td>0.253834</td>\n",
       "      <td>-0.141055</td>\n",
       "      <td>0.125447</td>\n",
       "      <td>0.662791</td>\n",
       "      <td>0.701112</td>\n",
       "      <td>0.710790</td>\n",
       "      <td>1.000000</td>\n",
       "      <td>0.724817</td>\n",
       "      <td>0.747489</td>\n",
       "      <td>0.752755</td>\n",
       "      <td>0.006638</td>\n",
       "      <td>0.246011</td>\n",
       "      <td>0.005643</td>\n",
       "      <td>0.736925</td>\n",
       "      <td>0.546100</td>\n",
       "      <td>0.084402</td>\n",
       "    </tr>\n",
       "    <tr>\n",
       "      <th>TechSupport</th>\n",
       "      <td>0.008215</td>\n",
       "      <td>0.067318</td>\n",
       "      <td>0.077252</td>\n",
       "      <td>-0.040057</td>\n",
       "      <td>0.230429</td>\n",
       "      <td>-0.160950</td>\n",
       "      <td>0.069706</td>\n",
       "      <td>0.585745</td>\n",
       "      <td>0.734696</td>\n",
       "      <td>0.708659</td>\n",
       "      <td>0.724817</td>\n",
       "      <td>1.000000</td>\n",
       "      <td>0.703306</td>\n",
       "      <td>0.704595</td>\n",
       "      <td>0.048001</td>\n",
       "      <td>0.210547</td>\n",
       "      <td>0.038621</td>\n",
       "      <td>0.660864</td>\n",
       "      <td>0.495641</td>\n",
       "      <td>0.026744</td>\n",
       "    </tr>\n",
       "    <tr>\n",
       "      <th>StreamingTV</th>\n",
       "      <td>0.007163</td>\n",
       "      <td>0.167123</td>\n",
       "      <td>0.080205</td>\n",
       "      <td>-0.085909</td>\n",
       "      <td>0.200646</td>\n",
       "      <td>-0.107242</td>\n",
       "      <td>0.166256</td>\n",
       "      <td>0.725522</td>\n",
       "      <td>0.661541</td>\n",
       "      <td>0.702605</td>\n",
       "      <td>0.747489</td>\n",
       "      <td>0.703306</td>\n",
       "      <td>1.000000</td>\n",
       "      <td>0.807118</td>\n",
       "      <td>-0.064457</td>\n",
       "      <td>0.318646</td>\n",
       "      <td>-0.073319</td>\n",
       "      <td>0.820193</td>\n",
       "      <td>0.535616</td>\n",
       "      <td>0.164509</td>\n",
       "    </tr>\n",
       "    <tr>\n",
       "      <th>StreamingMovies</th>\n",
       "      <td>0.009072</td>\n",
       "      <td>0.176125</td>\n",
       "      <td>0.076076</td>\n",
       "      <td>-0.099795</td>\n",
       "      <td>0.203834</td>\n",
       "      <td>-0.114798</td>\n",
       "      <td>0.163218</td>\n",
       "      <td>0.722592</td>\n",
       "      <td>0.666682</td>\n",
       "      <td>0.699828</td>\n",
       "      <td>0.752755</td>\n",
       "      <td>0.704595</td>\n",
       "      <td>0.807118</td>\n",
       "      <td>1.000000</td>\n",
       "      <td>-0.060995</td>\n",
       "      <td>0.310055</td>\n",
       "      <td>-0.066761</td>\n",
       "      <td>0.817525</td>\n",
       "      <td>0.537695</td>\n",
       "      <td>0.162672</td>\n",
       "    </tr>\n",
       "    <tr>\n",
       "      <th>Contract</th>\n",
       "      <td>-0.000095</td>\n",
       "      <td>-0.141820</td>\n",
       "      <td>0.294094</td>\n",
       "      <td>0.240556</td>\n",
       "      <td>0.676734</td>\n",
       "      <td>0.003019</td>\n",
       "      <td>0.084037</td>\n",
       "      <td>-0.288855</td>\n",
       "      <td>0.016495</td>\n",
       "      <td>-0.034745</td>\n",
       "      <td>0.006638</td>\n",
       "      <td>0.048001</td>\n",
       "      <td>-0.064457</td>\n",
       "      <td>-0.060995</td>\n",
       "      <td>1.000000</td>\n",
       "      <td>-0.175475</td>\n",
       "      <td>0.359487</td>\n",
       "      <td>-0.072739</td>\n",
       "      <td>0.450306</td>\n",
       "      <td>-0.396150</td>\n",
       "    </tr>\n",
       "    <tr>\n",
       "      <th>PaperlessBilling</th>\n",
       "      <td>0.011902</td>\n",
       "      <td>0.156258</td>\n",
       "      <td>-0.013957</td>\n",
       "      <td>-0.110131</td>\n",
       "      <td>0.004823</td>\n",
       "      <td>0.016696</td>\n",
       "      <td>0.133538</td>\n",
       "      <td>0.377644</td>\n",
       "      <td>0.184449</td>\n",
       "      <td>0.260691</td>\n",
       "      <td>0.246011</td>\n",
       "      <td>0.210547</td>\n",
       "      <td>0.318646</td>\n",
       "      <td>0.310055</td>\n",
       "      <td>-0.175475</td>\n",
       "      <td>1.000000</td>\n",
       "      <td>-0.101790</td>\n",
       "      <td>0.351930</td>\n",
       "      <td>0.157830</td>\n",
       "      <td>0.191454</td>\n",
       "    </tr>\n",
       "    <tr>\n",
       "      <th>PaymentMethod</th>\n",
       "      <td>0.004928</td>\n",
       "      <td>-0.093712</td>\n",
       "      <td>0.133280</td>\n",
       "      <td>0.124002</td>\n",
       "      <td>0.340939</td>\n",
       "      <td>-0.003106</td>\n",
       "      <td>0.026248</td>\n",
       "      <td>-0.178655</td>\n",
       "      <td>0.035563</td>\n",
       "      <td>-0.003786</td>\n",
       "      <td>0.005643</td>\n",
       "      <td>0.038621</td>\n",
       "      <td>-0.073319</td>\n",
       "      <td>-0.066761</td>\n",
       "      <td>0.359487</td>\n",
       "      <td>-0.101790</td>\n",
       "      <td>1.000000</td>\n",
       "      <td>-0.074640</td>\n",
       "      <td>0.222694</td>\n",
       "      <td>-0.262918</td>\n",
       "    </tr>\n",
       "    <tr>\n",
       "      <th>MonthlyCharges</th>\n",
       "      <td>0.013779</td>\n",
       "      <td>0.219874</td>\n",
       "      <td>0.097825</td>\n",
       "      <td>-0.112343</td>\n",
       "      <td>0.246862</td>\n",
       "      <td>0.248033</td>\n",
       "      <td>0.491412</td>\n",
       "      <td>0.905389</td>\n",
       "      <td>0.635260</td>\n",
       "      <td>0.710175</td>\n",
       "      <td>0.736925</td>\n",
       "      <td>0.660864</td>\n",
       "      <td>0.820193</td>\n",
       "      <td>0.817525</td>\n",
       "      <td>-0.072739</td>\n",
       "      <td>0.351930</td>\n",
       "      <td>-0.074640</td>\n",
       "      <td>1.000000</td>\n",
       "      <td>0.651065</td>\n",
       "      <td>0.192858</td>\n",
       "    </tr>\n",
       "    <tr>\n",
       "      <th>TotalCharges</th>\n",
       "      <td>-0.000048</td>\n",
       "      <td>0.102411</td>\n",
       "      <td>0.319072</td>\n",
       "      <td>0.064653</td>\n",
       "      <td>0.825880</td>\n",
       "      <td>0.113008</td>\n",
       "      <td>0.412495</td>\n",
       "      <td>0.428212</td>\n",
       "      <td>0.483157</td>\n",
       "      <td>0.537726</td>\n",
       "      <td>0.546100</td>\n",
       "      <td>0.495641</td>\n",
       "      <td>0.535616</td>\n",
       "      <td>0.537695</td>\n",
       "      <td>0.450306</td>\n",
       "      <td>0.157830</td>\n",
       "      <td>0.222694</td>\n",
       "      <td>0.651065</td>\n",
       "      <td>1.000000</td>\n",
       "      <td>-0.199484</td>\n",
       "    </tr>\n",
       "    <tr>\n",
       "      <th>Churn</th>\n",
       "      <td>0.008545</td>\n",
       "      <td>0.150541</td>\n",
       "      <td>-0.149982</td>\n",
       "      <td>-0.163128</td>\n",
       "      <td>-0.354049</td>\n",
       "      <td>0.011691</td>\n",
       "      <td>0.036148</td>\n",
       "      <td>0.316350</td>\n",
       "      <td>0.023014</td>\n",
       "      <td>0.073934</td>\n",
       "      <td>0.084402</td>\n",
       "      <td>0.026744</td>\n",
       "      <td>0.164509</td>\n",
       "      <td>0.162672</td>\n",
       "      <td>-0.396150</td>\n",
       "      <td>0.191454</td>\n",
       "      <td>-0.262918</td>\n",
       "      <td>0.192858</td>\n",
       "      <td>-0.199484</td>\n",
       "      <td>1.000000</td>\n",
       "    </tr>\n",
       "  </tbody>\n",
       "</table>\n",
       "</div>"
      ],
      "text/plain": [
       "                    gender  SeniorCitizen   Partner  Dependents    tenure  \\\n",
       "gender            1.000000       0.001819  0.001379   -0.010349 -0.005285   \n",
       "SeniorCitizen     0.001819       1.000000  0.016957   -0.210550  0.015683   \n",
       "Partner           0.001379       0.016957  1.000000    0.452269  0.381912   \n",
       "Dependents       -0.010349      -0.210550  0.452269    1.000000  0.163386   \n",
       "tenure           -0.005285       0.015683  0.381912    0.163386  1.000000   \n",
       "PhoneService      0.007515       0.008392  0.018397   -0.001078  0.007877   \n",
       "MultipleLines     0.010284       0.113769  0.118037   -0.019178  0.259112   \n",
       "InternetService   0.009643       0.259030  0.000938   -0.177789  0.031272   \n",
       "OnlineSecurity    0.013233       0.081766  0.092034   -0.028964  0.232295   \n",
       "OnlineBackup      0.011081       0.144762  0.091536   -0.061970  0.253575   \n",
       "DeviceProtection  0.003168       0.140226  0.099077   -0.068296  0.253834   \n",
       "TechSupport       0.008215       0.067318  0.077252   -0.040057  0.230429   \n",
       "StreamingTV       0.007163       0.167123  0.080205   -0.085909  0.200646   \n",
       "StreamingMovies   0.009072       0.176125  0.076076   -0.099795  0.203834   \n",
       "Contract         -0.000095      -0.141820  0.294094    0.240556  0.676734   \n",
       "PaperlessBilling  0.011902       0.156258 -0.013957   -0.110131  0.004823   \n",
       "PaymentMethod     0.004928      -0.093712  0.133280    0.124002  0.340939   \n",
       "MonthlyCharges    0.013779       0.219874  0.097825   -0.112343  0.246862   \n",
       "TotalCharges     -0.000048       0.102411  0.319072    0.064653  0.825880   \n",
       "Churn             0.008545       0.150541 -0.149982   -0.163128 -0.354049   \n",
       "\n",
       "                  PhoneService  MultipleLines  InternetService  \\\n",
       "gender                0.007515       0.010284         0.009643   \n",
       "SeniorCitizen         0.008392       0.113769         0.259030   \n",
       "Partner               0.018397       0.118037         0.000938   \n",
       "Dependents           -0.001078      -0.019178        -0.177789   \n",
       "tenure                0.007877       0.259112         0.031272   \n",
       "PhoneService          1.000000       0.674824         0.094182   \n",
       "MultipleLines         0.674824       1.000000         0.308546   \n",
       "InternetService       0.094182       0.308546         1.000000   \n",
       "OnlineSecurity       -0.158997       0.069959         0.581993   \n",
       "OnlineBackup         -0.129432       0.130978         0.658487   \n",
       "DeviceProtection     -0.141055       0.125447         0.662791   \n",
       "TechSupport          -0.160950       0.069706         0.585745   \n",
       "StreamingTV          -0.107242       0.166256         0.725522   \n",
       "StreamingMovies      -0.114798       0.163218         0.722592   \n",
       "Contract              0.003019       0.084037        -0.288855   \n",
       "PaperlessBilling      0.016696       0.133538         0.377644   \n",
       "PaymentMethod        -0.003106       0.026248        -0.178655   \n",
       "MonthlyCharges        0.248033       0.491412         0.905389   \n",
       "TotalCharges          0.113008       0.412495         0.428212   \n",
       "Churn                 0.011691       0.036148         0.316350   \n",
       "\n",
       "                  OnlineSecurity  OnlineBackup  DeviceProtection  TechSupport  \\\n",
       "gender                  0.013233      0.011081          0.003168     0.008215   \n",
       "SeniorCitizen           0.081766      0.144762          0.140226     0.067318   \n",
       "Partner                 0.092034      0.091536          0.099077     0.077252   \n",
       "Dependents             -0.028964     -0.061970         -0.068296    -0.040057   \n",
       "tenure                  0.232295      0.253575          0.253834     0.230429   \n",
       "PhoneService           -0.158997     -0.129432         -0.141055    -0.160950   \n",
       "MultipleLines           0.069959      0.130978          0.125447     0.069706   \n",
       "InternetService         0.581993      0.658487          0.662791     0.585745   \n",
       "OnlineSecurity          1.000000      0.704598          0.701112     0.734696   \n",
       "OnlineBackup            0.704598      1.000000          0.710790     0.708659   \n",
       "DeviceProtection        0.701112      0.710790          1.000000     0.724817   \n",
       "TechSupport             0.734696      0.708659          0.724817     1.000000   \n",
       "StreamingTV             0.661541      0.702605          0.747489     0.703306   \n",
       "StreamingMovies         0.666682      0.699828          0.752755     0.704595   \n",
       "Contract                0.016495     -0.034745          0.006638     0.048001   \n",
       "PaperlessBilling        0.184449      0.260691          0.246011     0.210547   \n",
       "PaymentMethod           0.035563     -0.003786          0.005643     0.038621   \n",
       "MonthlyCharges          0.635260      0.710175          0.736925     0.660864   \n",
       "TotalCharges            0.483157      0.537726          0.546100     0.495641   \n",
       "Churn                   0.023014      0.073934          0.084402     0.026744   \n",
       "\n",
       "                  StreamingTV  StreamingMovies  Contract  PaperlessBilling  \\\n",
       "gender               0.007163         0.009072 -0.000095          0.011902   \n",
       "SeniorCitizen        0.167123         0.176125 -0.141820          0.156258   \n",
       "Partner              0.080205         0.076076  0.294094         -0.013957   \n",
       "Dependents          -0.085909        -0.099795  0.240556         -0.110131   \n",
       "tenure               0.200646         0.203834  0.676734          0.004823   \n",
       "PhoneService        -0.107242        -0.114798  0.003019          0.016696   \n",
       "MultipleLines        0.166256         0.163218  0.084037          0.133538   \n",
       "InternetService      0.725522         0.722592 -0.288855          0.377644   \n",
       "OnlineSecurity       0.661541         0.666682  0.016495          0.184449   \n",
       "OnlineBackup         0.702605         0.699828 -0.034745          0.260691   \n",
       "DeviceProtection     0.747489         0.752755  0.006638          0.246011   \n",
       "TechSupport          0.703306         0.704595  0.048001          0.210547   \n",
       "StreamingTV          1.000000         0.807118 -0.064457          0.318646   \n",
       "StreamingMovies      0.807118         1.000000 -0.060995          0.310055   \n",
       "Contract            -0.064457        -0.060995  1.000000         -0.175475   \n",
       "PaperlessBilling     0.318646         0.310055 -0.175475          1.000000   \n",
       "PaymentMethod       -0.073319        -0.066761  0.359487         -0.101790   \n",
       "MonthlyCharges       0.820193         0.817525 -0.072739          0.351930   \n",
       "TotalCharges         0.535616         0.537695  0.450306          0.157830   \n",
       "Churn                0.164509         0.162672 -0.396150          0.191454   \n",
       "\n",
       "                  PaymentMethod  MonthlyCharges  TotalCharges     Churn  \n",
       "gender                 0.004928        0.013779     -0.000048  0.008545  \n",
       "SeniorCitizen         -0.093712        0.219874      0.102411  0.150541  \n",
       "Partner                0.133280        0.097825      0.319072 -0.149982  \n",
       "Dependents             0.124002       -0.112343      0.064653 -0.163128  \n",
       "tenure                 0.340939        0.246862      0.825880 -0.354049  \n",
       "PhoneService          -0.003106        0.248033      0.113008  0.011691  \n",
       "MultipleLines          0.026248        0.491412      0.412495  0.036148  \n",
       "InternetService       -0.178655        0.905389      0.428212  0.316350  \n",
       "OnlineSecurity         0.035563        0.635260      0.483157  0.023014  \n",
       "OnlineBackup          -0.003786        0.710175      0.537726  0.073934  \n",
       "DeviceProtection       0.005643        0.736925      0.546100  0.084402  \n",
       "TechSupport            0.038621        0.660864      0.495641  0.026744  \n",
       "StreamingTV           -0.073319        0.820193      0.535616  0.164509  \n",
       "StreamingMovies       -0.066761        0.817525      0.537695  0.162672  \n",
       "Contract               0.359487       -0.072739      0.450306 -0.396150  \n",
       "PaperlessBilling      -0.101790        0.351930      0.157830  0.191454  \n",
       "PaymentMethod          1.000000       -0.074640      0.222694 -0.262918  \n",
       "MonthlyCharges        -0.074640        1.000000      0.651065  0.192858  \n",
       "TotalCharges           0.222694        0.651065      1.000000 -0.199484  \n",
       "Churn                 -0.262918        0.192858     -0.199484  1.000000  "
      ]
     },
     "execution_count": 160,
     "metadata": {},
     "output_type": "execute_result"
    }
   ],
   "source": [
    "corr"
   ]
  },
  {
   "cell_type": "markdown",
   "metadata": {},
   "source": [
    "- 상관분석 결과, 가입 개월수와 지급 금액 수는 높은 상관관계를 보여주고 있음(0.82)\n",
    "- 인터넷 가입자의 경우, 온라인 보안, 백업 서비스, 장비 보험, 기술 지원, TV 스트리밍, 영화 스트리밍 서비스 등의 가입 여부와 높은 상관관계를 보임\n",
    "- 하지만, 가입 여부와 가입 수준 등 범주형 변수이므로, pearson 상관계수를 확인하는 것이 적절한 것인지 의문\n",
    "- 그래서 spearman의 상관계수 방식을 통해 독립성을 검증해보자"
   ]
  },
  {
   "cell_type": "code",
   "execution_count": 61,
   "metadata": {},
   "outputs": [
    {
     "data": {
      "image/png": "[encoded data removed]",
      "text/plain": [
       "<matplotlib.figure.Figure at 0x1f7ec226cc0>"
      ]
     },
     "metadata": {},
     "output_type": "display_data"
    }
   ],
   "source": [
    "fig = plt.figure(figsize=(15,10))\n",
    "corr_sprm = tele_data.corr(method = 'spearman')\n",
    "sns.heatmap(corr_sprm, cmap=\"YlGnBu\")\n",
    "plt.show()"
   ]
  },
  {
   "cell_type": "code",
   "execution_count": 62,
   "metadata": {},
   "outputs": [
    {
     "data": {
      "text/html": [
       "<div>\n",
       "<style scoped>\n",
       "    .dataframe tbody tr th:only-of-type {\n",
       "        vertical-align: middle;\n",
       "    }\n",
       "\n",
       "    .dataframe tbody tr th {\n",
       "        vertical-align: top;\n",
       "    }\n",
       "\n",
       "    .dataframe thead th {\n",
       "        text-align: right;\n",
       "    }\n",
       "</style>\n",
       "<table border=\"1\" class=\"dataframe\">\n",
       "  <thead>\n",
       "    <tr style=\"text-align: right;\">\n",
       "      <th></th>\n",
       "      <th>gender</th>\n",
       "      <th>SeniorCitizen</th>\n",
       "      <th>Partner</th>\n",
       "      <th>Dependents</th>\n",
       "      <th>tenure</th>\n",
       "      <th>PhoneService</th>\n",
       "      <th>MultipleLines</th>\n",
       "      <th>InternetService</th>\n",
       "      <th>OnlineSecurity</th>\n",
       "      <th>OnlineBackup</th>\n",
       "      <th>DeviceProtection</th>\n",
       "      <th>TechSupport</th>\n",
       "      <th>StreamingTV</th>\n",
       "      <th>StreamingMovies</th>\n",
       "      <th>Contract</th>\n",
       "      <th>PaperlessBilling</th>\n",
       "      <th>PaymentMethod</th>\n",
       "      <th>MonthlyCharges</th>\n",
       "      <th>TotalCharges</th>\n",
       "      <th>Churn</th>\n",
       "    </tr>\n",
       "  </thead>\n",
       "  <tbody>\n",
       "    <tr>\n",
       "      <th>gender</th>\n",
       "      <td>1.000000</td>\n",
       "      <td>0.001819</td>\n",
       "      <td>0.001379</td>\n",
       "      <td>-0.010349</td>\n",
       "      <td>-0.003718</td>\n",
       "      <td>0.007515</td>\n",
       "      <td>0.010082</td>\n",
       "      <td>0.010150</td>\n",
       "      <td>0.013542</td>\n",
       "      <td>0.011472</td>\n",
       "      <td>0.002948</td>\n",
       "      <td>0.008314</td>\n",
       "      <td>0.007280</td>\n",
       "      <td>0.009390</td>\n",
       "      <td>-0.001037</td>\n",
       "      <td>0.011902</td>\n",
       "      <td>0.004651</td>\n",
       "      <td>0.013085</td>\n",
       "      <td>0.001177</td>\n",
       "      <td>0.008545</td>\n",
       "    </tr>\n",
       "    <tr>\n",
       "      <th>SeniorCitizen</th>\n",
       "      <td>0.001819</td>\n",
       "      <td>1.000000</td>\n",
       "      <td>0.016957</td>\n",
       "      <td>-0.210550</td>\n",
       "      <td>0.017408</td>\n",
       "      <td>0.008392</td>\n",
       "      <td>0.125338</td>\n",
       "      <td>0.263197</td>\n",
       "      <td>0.075307</td>\n",
       "      <td>0.137975</td>\n",
       "      <td>0.133141</td>\n",
       "      <td>0.059887</td>\n",
       "      <td>0.160605</td>\n",
       "      <td>0.170399</td>\n",
       "      <td>-0.143143</td>\n",
       "      <td>0.156258</td>\n",
       "      <td>-0.103386</td>\n",
       "      <td>0.220737</td>\n",
       "      <td>0.107248</td>\n",
       "      <td>0.150541</td>\n",
       "    </tr>\n",
       "    <tr>\n",
       "      <th>Partner</th>\n",
       "      <td>0.001379</td>\n",
       "      <td>0.016957</td>\n",
       "      <td>1.000000</td>\n",
       "      <td>0.452269</td>\n",
       "      <td>0.387972</td>\n",
       "      <td>0.018397</td>\n",
       "      <td>0.128250</td>\n",
       "      <td>0.001018</td>\n",
       "      <td>0.095975</td>\n",
       "      <td>0.098607</td>\n",
       "      <td>0.106674</td>\n",
       "      <td>0.080719</td>\n",
       "      <td>0.088308</td>\n",
       "      <td>0.083946</td>\n",
       "      <td>0.295210</td>\n",
       "      <td>-0.013957</td>\n",
       "      <td>0.130683</td>\n",
       "      <td>0.109456</td>\n",
       "      <td>0.343196</td>\n",
       "      <td>-0.149982</td>\n",
       "    </tr>\n",
       "    <tr>\n",
       "      <th>Dependents</th>\n",
       "      <td>-0.010349</td>\n",
       "      <td>-0.210550</td>\n",
       "      <td>0.452269</td>\n",
       "      <td>1.000000</td>\n",
       "      <td>0.169018</td>\n",
       "      <td>-0.001078</td>\n",
       "      <td>-0.021191</td>\n",
       "      <td>-0.178395</td>\n",
       "      <td>-0.022647</td>\n",
       "      <td>-0.053118</td>\n",
       "      <td>-0.059998</td>\n",
       "      <td>-0.033928</td>\n",
       "      <td>-0.076826</td>\n",
       "      <td>-0.091947</td>\n",
       "      <td>0.241624</td>\n",
       "      <td>-0.110131</td>\n",
       "      <td>0.128859</td>\n",
       "      <td>-0.105449</td>\n",
       "      <td>0.082890</td>\n",
       "      <td>-0.163128</td>\n",
       "    </tr>\n",
       "    <tr>\n",
       "      <th>tenure</th>\n",
       "      <td>-0.003718</td>\n",
       "      <td>0.017408</td>\n",
       "      <td>0.387972</td>\n",
       "      <td>0.169018</td>\n",
       "      <td>1.000000</td>\n",
       "      <td>0.007734</td>\n",
       "      <td>0.292442</td>\n",
       "      <td>0.031182</td>\n",
       "      <td>0.242226</td>\n",
       "      <td>0.270167</td>\n",
       "      <td>0.272358</td>\n",
       "      <td>0.241211</td>\n",
       "      <td>0.220248</td>\n",
       "      <td>0.223981</td>\n",
       "      <td>0.673986</td>\n",
       "      <td>0.005955</td>\n",
       "      <td>0.337963</td>\n",
       "      <td>0.275339</td>\n",
       "      <td>0.889177</td>\n",
       "      <td>-0.369659</td>\n",
       "    </tr>\n",
       "    <tr>\n",
       "      <th>PhoneService</th>\n",
       "      <td>0.007515</td>\n",
       "      <td>0.008392</td>\n",
       "      <td>0.018397</td>\n",
       "      <td>-0.001078</td>\n",
       "      <td>0.007734</td>\n",
       "      <td>1.000000</td>\n",
       "      <td>0.567931</td>\n",
       "      <td>0.136641</td>\n",
       "      <td>-0.156444</td>\n",
       "      <td>-0.122512</td>\n",
       "      <td>-0.135082</td>\n",
       "      <td>-0.158355</td>\n",
       "      <td>-0.096024</td>\n",
       "      <td>-0.104107</td>\n",
       "      <td>0.002543</td>\n",
       "      <td>0.016696</td>\n",
       "      <td>-0.003083</td>\n",
       "      <td>0.240266</td>\n",
       "      <td>0.084910</td>\n",
       "      <td>0.011691</td>\n",
       "    </tr>\n",
       "    <tr>\n",
       "      <th>MultipleLines</th>\n",
       "      <td>0.010082</td>\n",
       "      <td>0.125338</td>\n",
       "      <td>0.128250</td>\n",
       "      <td>-0.021191</td>\n",
       "      <td>0.292442</td>\n",
       "      <td>0.567931</td>\n",
       "      <td>1.000000</td>\n",
       "      <td>0.350194</td>\n",
       "      <td>0.105219</td>\n",
       "      <td>0.170904</td>\n",
       "      <td>0.166565</td>\n",
       "      <td>0.105191</td>\n",
       "      <td>0.210075</td>\n",
       "      <td>0.208002</td>\n",
       "      <td>0.089813</td>\n",
       "      <td>0.145852</td>\n",
       "      <td>0.019937</td>\n",
       "      <td>0.526447</td>\n",
       "      <td>0.430896</td>\n",
       "      <td>0.038156</td>\n",
       "    </tr>\n",
       "    <tr>\n",
       "      <th>InternetService</th>\n",
       "      <td>0.010150</td>\n",
       "      <td>0.263197</td>\n",
       "      <td>0.001018</td>\n",
       "      <td>-0.178395</td>\n",
       "      <td>0.031182</td>\n",
       "      <td>0.136641</td>\n",
       "      <td>0.350194</td>\n",
       "      <td>1.000000</td>\n",
       "      <td>0.505543</td>\n",
       "      <td>0.582418</td>\n",
       "      <td>0.587933</td>\n",
       "      <td>0.509000</td>\n",
       "      <td>0.656583</td>\n",
       "      <td>0.652090</td>\n",
       "      <td>-0.286951</td>\n",
       "      <td>0.374351</td>\n",
       "      <td>-0.204973</td>\n",
       "      <td>0.884535</td>\n",
       "      <td>0.403318</td>\n",
       "      <td>0.320636</td>\n",
       "    </tr>\n",
       "    <tr>\n",
       "      <th>OnlineSecurity</th>\n",
       "      <td>0.013542</td>\n",
       "      <td>0.075307</td>\n",
       "      <td>0.095975</td>\n",
       "      <td>-0.022647</td>\n",
       "      <td>0.242226</td>\n",
       "      <td>-0.156444</td>\n",
       "      <td>0.105219</td>\n",
       "      <td>0.505543</td>\n",
       "      <td>1.000000</td>\n",
       "      <td>0.667961</td>\n",
       "      <td>0.664227</td>\n",
       "      <td>0.710808</td>\n",
       "      <td>0.611327</td>\n",
       "      <td>0.616422</td>\n",
       "      <td>0.035108</td>\n",
       "      <td>0.174859</td>\n",
       "      <td>0.031355</td>\n",
       "      <td>0.577432</td>\n",
       "      <td>0.487169</td>\n",
       "      <td>0.011566</td>\n",
       "    </tr>\n",
       "    <tr>\n",
       "      <th>OnlineBackup</th>\n",
       "      <td>0.011472</td>\n",
       "      <td>0.137975</td>\n",
       "      <td>0.098607</td>\n",
       "      <td>-0.053118</td>\n",
       "      <td>0.270167</td>\n",
       "      <td>-0.122512</td>\n",
       "      <td>0.170904</td>\n",
       "      <td>0.582418</td>\n",
       "      <td>0.667961</td>\n",
       "      <td>1.000000</td>\n",
       "      <td>0.664379</td>\n",
       "      <td>0.671877</td>\n",
       "      <td>0.647114</td>\n",
       "      <td>0.643049</td>\n",
       "      <td>-0.008393</td>\n",
       "      <td>0.249267</td>\n",
       "      <td>-0.007736</td>\n",
       "      <td>0.659291</td>\n",
       "      <td>0.534767</td>\n",
       "      <td>0.057207</td>\n",
       "    </tr>\n",
       "    <tr>\n",
       "      <th>DeviceProtection</th>\n",
       "      <td>0.002948</td>\n",
       "      <td>0.133141</td>\n",
       "      <td>0.106674</td>\n",
       "      <td>-0.059998</td>\n",
       "      <td>0.272358</td>\n",
       "      <td>-0.135082</td>\n",
       "      <td>0.166565</td>\n",
       "      <td>0.587933</td>\n",
       "      <td>0.664227</td>\n",
       "      <td>0.664379</td>\n",
       "      <td>1.000000</td>\n",
       "      <td>0.690242</td>\n",
       "      <td>0.700557</td>\n",
       "      <td>0.706175</td>\n",
       "      <td>0.036236</td>\n",
       "      <td>0.233543</td>\n",
       "      <td>0.001619</td>\n",
       "      <td>0.690759</td>\n",
       "      <td>0.546867</td>\n",
       "      <td>0.068607</td>\n",
       "    </tr>\n",
       "    <tr>\n",
       "      <th>TechSupport</th>\n",
       "      <td>0.008314</td>\n",
       "      <td>0.059887</td>\n",
       "      <td>0.080719</td>\n",
       "      <td>-0.033928</td>\n",
       "      <td>0.241211</td>\n",
       "      <td>-0.158355</td>\n",
       "      <td>0.105191</td>\n",
       "      <td>0.509000</td>\n",
       "      <td>0.710808</td>\n",
       "      <td>0.671877</td>\n",
       "      <td>0.690242</td>\n",
       "      <td>1.000000</td>\n",
       "      <td>0.658632</td>\n",
       "      <td>0.659399</td>\n",
       "      <td>0.067369</td>\n",
       "      <td>0.201658</td>\n",
       "      <td>0.034941</td>\n",
       "      <td>0.607202</td>\n",
       "      <td>0.495949</td>\n",
       "      <td>0.014899</td>\n",
       "    </tr>\n",
       "    <tr>\n",
       "      <th>StreamingTV</th>\n",
       "      <td>0.007280</td>\n",
       "      <td>0.160605</td>\n",
       "      <td>0.088308</td>\n",
       "      <td>-0.076826</td>\n",
       "      <td>0.220248</td>\n",
       "      <td>-0.096024</td>\n",
       "      <td>0.210075</td>\n",
       "      <td>0.656583</td>\n",
       "      <td>0.611327</td>\n",
       "      <td>0.647114</td>\n",
       "      <td>0.700557</td>\n",
       "      <td>0.658632</td>\n",
       "      <td>1.000000</td>\n",
       "      <td>0.765461</td>\n",
       "      <td>-0.035536</td>\n",
       "      <td>0.309744</td>\n",
       "      <td>-0.084332</td>\n",
       "      <td>0.789943</td>\n",
       "      <td>0.533098</td>\n",
       "      <td>0.151930</td>\n",
       "    </tr>\n",
       "    <tr>\n",
       "      <th>StreamingMovies</th>\n",
       "      <td>0.009390</td>\n",
       "      <td>0.170399</td>\n",
       "      <td>0.083946</td>\n",
       "      <td>-0.091947</td>\n",
       "      <td>0.223981</td>\n",
       "      <td>-0.104107</td>\n",
       "      <td>0.208002</td>\n",
       "      <td>0.652090</td>\n",
       "      <td>0.616422</td>\n",
       "      <td>0.643049</td>\n",
       "      <td>0.706175</td>\n",
       "      <td>0.659399</td>\n",
       "      <td>0.765461</td>\n",
       "      <td>1.000000</td>\n",
       "      <td>-0.031003</td>\n",
       "      <td>0.300070</td>\n",
       "      <td>-0.076947</td>\n",
       "      <td>0.786510</td>\n",
       "      <td>0.535552</td>\n",
       "      <td>0.149615</td>\n",
       "    </tr>\n",
       "    <tr>\n",
       "      <th>Contract</th>\n",
       "      <td>-0.001037</td>\n",
       "      <td>-0.143143</td>\n",
       "      <td>0.295210</td>\n",
       "      <td>0.241624</td>\n",
       "      <td>0.673986</td>\n",
       "      <td>0.002543</td>\n",
       "      <td>0.089813</td>\n",
       "      <td>-0.286951</td>\n",
       "      <td>0.035108</td>\n",
       "      <td>-0.008393</td>\n",
       "      <td>0.036236</td>\n",
       "      <td>0.067369</td>\n",
       "      <td>-0.035536</td>\n",
       "      <td>-0.031003</td>\n",
       "      <td>1.000000</td>\n",
       "      <td>-0.176472</td>\n",
       "      <td>0.367178</td>\n",
       "      <td>-0.047260</td>\n",
       "      <td>0.467410</td>\n",
       "      <td>-0.405742</td>\n",
       "    </tr>\n",
       "    <tr>\n",
       "      <th>PaperlessBilling</th>\n",
       "      <td>0.011902</td>\n",
       "      <td>0.156258</td>\n",
       "      <td>-0.013957</td>\n",
       "      <td>-0.110131</td>\n",
       "      <td>0.005955</td>\n",
       "      <td>0.016696</td>\n",
       "      <td>0.145852</td>\n",
       "      <td>0.374351</td>\n",
       "      <td>0.174859</td>\n",
       "      <td>0.249267</td>\n",
       "      <td>0.233543</td>\n",
       "      <td>0.201658</td>\n",
       "      <td>0.309744</td>\n",
       "      <td>0.300070</td>\n",
       "      <td>-0.176472</td>\n",
       "      <td>1.000000</td>\n",
       "      <td>-0.114628</td>\n",
       "      <td>0.345805</td>\n",
       "      <td>0.153934</td>\n",
       "      <td>0.191454</td>\n",
       "    </tr>\n",
       "    <tr>\n",
       "      <th>PaymentMethod</th>\n",
       "      <td>0.004651</td>\n",
       "      <td>-0.103386</td>\n",
       "      <td>0.130683</td>\n",
       "      <td>0.128859</td>\n",
       "      <td>0.337963</td>\n",
       "      <td>-0.003083</td>\n",
       "      <td>0.019937</td>\n",
       "      <td>-0.204973</td>\n",
       "      <td>0.031355</td>\n",
       "      <td>-0.007736</td>\n",
       "      <td>0.001619</td>\n",
       "      <td>0.034941</td>\n",
       "      <td>-0.084332</td>\n",
       "      <td>-0.076947</td>\n",
       "      <td>0.367178</td>\n",
       "      <td>-0.114628</td>\n",
       "      <td>1.000000</td>\n",
       "      <td>-0.089621</td>\n",
       "      <td>0.227874</td>\n",
       "      <td>-0.271678</td>\n",
       "    </tr>\n",
       "    <tr>\n",
       "      <th>MonthlyCharges</th>\n",
       "      <td>0.013085</td>\n",
       "      <td>0.220737</td>\n",
       "      <td>0.109456</td>\n",
       "      <td>-0.105449</td>\n",
       "      <td>0.275339</td>\n",
       "      <td>0.240266</td>\n",
       "      <td>0.526447</td>\n",
       "      <td>0.884535</td>\n",
       "      <td>0.577432</td>\n",
       "      <td>0.659291</td>\n",
       "      <td>0.690759</td>\n",
       "      <td>0.607202</td>\n",
       "      <td>0.789943</td>\n",
       "      <td>0.786510</td>\n",
       "      <td>-0.047260</td>\n",
       "      <td>0.345805</td>\n",
       "      <td>-0.089621</td>\n",
       "      <td>1.000000</td>\n",
       "      <td>0.638032</td>\n",
       "      <td>0.184167</td>\n",
       "    </tr>\n",
       "    <tr>\n",
       "      <th>TotalCharges</th>\n",
       "      <td>0.001177</td>\n",
       "      <td>0.107248</td>\n",
       "      <td>0.343196</td>\n",
       "      <td>0.082890</td>\n",
       "      <td>0.889177</td>\n",
       "      <td>0.084910</td>\n",
       "      <td>0.430896</td>\n",
       "      <td>0.403318</td>\n",
       "      <td>0.487169</td>\n",
       "      <td>0.534767</td>\n",
       "      <td>0.546867</td>\n",
       "      <td>0.495949</td>\n",
       "      <td>0.533098</td>\n",
       "      <td>0.535552</td>\n",
       "      <td>0.467410</td>\n",
       "      <td>0.153934</td>\n",
       "      <td>0.227874</td>\n",
       "      <td>0.638032</td>\n",
       "      <td>1.000000</td>\n",
       "      <td>-0.232190</td>\n",
       "    </tr>\n",
       "    <tr>\n",
       "      <th>Churn</th>\n",
       "      <td>0.008545</td>\n",
       "      <td>0.150541</td>\n",
       "      <td>-0.149982</td>\n",
       "      <td>-0.163128</td>\n",
       "      <td>-0.369659</td>\n",
       "      <td>0.011691</td>\n",
       "      <td>0.038156</td>\n",
       "      <td>0.320636</td>\n",
       "      <td>0.011566</td>\n",
       "      <td>0.057207</td>\n",
       "      <td>0.068607</td>\n",
       "      <td>0.014899</td>\n",
       "      <td>0.151930</td>\n",
       "      <td>0.149615</td>\n",
       "      <td>-0.405742</td>\n",
       "      <td>0.191454</td>\n",
       "      <td>-0.271678</td>\n",
       "      <td>0.184167</td>\n",
       "      <td>-0.232190</td>\n",
       "      <td>1.000000</td>\n",
       "    </tr>\n",
       "  </tbody>\n",
       "</table>\n",
       "</div>"
      ],
      "text/plain": [
       "                    gender  SeniorCitizen   Partner  Dependents    tenure  \\\n",
       "gender            1.000000       0.001819  0.001379   -0.010349 -0.003718   \n",
       "SeniorCitizen     0.001819       1.000000  0.016957   -0.210550  0.017408   \n",
       "Partner           0.001379       0.016957  1.000000    0.452269  0.387972   \n",
       "Dependents       -0.010349      -0.210550  0.452269    1.000000  0.169018   \n",
       "tenure           -0.003718       0.017408  0.387972    0.169018  1.000000   \n",
       "PhoneService      0.007515       0.008392  0.018397   -0.001078  0.007734   \n",
       "MultipleLines     0.010082       0.125338  0.128250   -0.021191  0.292442   \n",
       "InternetService   0.010150       0.263197  0.001018   -0.178395  0.031182   \n",
       "OnlineSecurity    0.013542       0.075307  0.095975   -0.022647  0.242226   \n",
       "OnlineBackup      0.011472       0.137975  0.098607   -0.053118  0.270167   \n",
       "DeviceProtection  0.002948       0.133141  0.106674   -0.059998  0.272358   \n",
       "TechSupport       0.008314       0.059887  0.080719   -0.033928  0.241211   \n",
       "StreamingTV       0.007280       0.160605  0.088308   -0.076826  0.220248   \n",
       "StreamingMovies   0.009390       0.170399  0.083946   -0.091947  0.223981   \n",
       "Contract         -0.001037      -0.143143  0.295210    0.241624  0.673986   \n",
       "PaperlessBilling  0.011902       0.156258 -0.013957   -0.110131  0.005955   \n",
       "PaymentMethod     0.004651      -0.103386  0.130683    0.128859  0.337963   \n",
       "MonthlyCharges    0.013085       0.220737  0.109456   -0.105449  0.275339   \n",
       "TotalCharges      0.001177       0.107248  0.343196    0.082890  0.889177   \n",
       "Churn             0.008545       0.150541 -0.149982   -0.163128 -0.369659   \n",
       "\n",
       "                  PhoneService  MultipleLines  InternetService  \\\n",
       "gender                0.007515       0.010082         0.010150   \n",
       "SeniorCitizen         0.008392       0.125338         0.263197   \n",
       "Partner               0.018397       0.128250         0.001018   \n",
       "Dependents           -0.001078      -0.021191        -0.178395   \n",
       "tenure                0.007734       0.292442         0.031182   \n",
       "PhoneService          1.000000       0.567931         0.136641   \n",
       "MultipleLines         0.567931       1.000000         0.350194   \n",
       "InternetService       0.136641       0.350194         1.000000   \n",
       "OnlineSecurity       -0.156444       0.105219         0.505543   \n",
       "OnlineBackup         -0.122512       0.170904         0.582418   \n",
       "DeviceProtection     -0.135082       0.166565         0.587933   \n",
       "TechSupport          -0.158355       0.105191         0.509000   \n",
       "StreamingTV          -0.096024       0.210075         0.656583   \n",
       "StreamingMovies      -0.104107       0.208002         0.652090   \n",
       "Contract              0.002543       0.089813        -0.286951   \n",
       "PaperlessBilling      0.016696       0.145852         0.374351   \n",
       "PaymentMethod        -0.003083       0.019937        -0.204973   \n",
       "MonthlyCharges        0.240266       0.526447         0.884535   \n",
       "TotalCharges          0.084910       0.430896         0.403318   \n",
       "Churn                 0.011691       0.038156         0.320636   \n",
       "\n",
       "                  OnlineSecurity  OnlineBackup  DeviceProtection  TechSupport  \\\n",
       "gender                  0.013542      0.011472          0.002948     0.008314   \n",
       "SeniorCitizen           0.075307      0.137975          0.133141     0.059887   \n",
       "Partner                 0.095975      0.098607          0.106674     0.080719   \n",
       "Dependents             -0.022647     -0.053118         -0.059998    -0.033928   \n",
       "tenure                  0.242226      0.270167          0.272358     0.241211   \n",
       "PhoneService           -0.156444     -0.122512         -0.135082    -0.158355   \n",
       "MultipleLines           0.105219      0.170904          0.166565     0.105191   \n",
       "InternetService         0.505543      0.582418          0.587933     0.509000   \n",
       "OnlineSecurity          1.000000      0.667961          0.664227     0.710808   \n",
       "OnlineBackup            0.667961      1.000000          0.664379     0.671877   \n",
       "DeviceProtection        0.664227      0.664379          1.000000     0.690242   \n",
       "TechSupport             0.710808      0.671877          0.690242     1.000000   \n",
       "StreamingTV             0.611327      0.647114          0.700557     0.658632   \n",
       "StreamingMovies         0.616422      0.643049          0.706175     0.659399   \n",
       "Contract                0.035108     -0.008393          0.036236     0.067369   \n",
       "PaperlessBilling        0.174859      0.249267          0.233543     0.201658   \n",
       "PaymentMethod           0.031355     -0.007736          0.001619     0.034941   \n",
       "MonthlyCharges          0.577432      0.659291          0.690759     0.607202   \n",
       "TotalCharges            0.487169      0.534767          0.546867     0.495949   \n",
       "Churn                   0.011566      0.057207          0.068607     0.014899   \n",
       "\n",
       "                  StreamingTV  StreamingMovies  Contract  PaperlessBilling  \\\n",
       "gender               0.007280         0.009390 -0.001037          0.011902   \n",
       "SeniorCitizen        0.160605         0.170399 -0.143143          0.156258   \n",
       "Partner              0.088308         0.083946  0.295210         -0.013957   \n",
       "Dependents          -0.076826        -0.091947  0.241624         -0.110131   \n",
       "tenure               0.220248         0.223981  0.673986          0.005955   \n",
       "PhoneService        -0.096024        -0.104107  0.002543          0.016696   \n",
       "MultipleLines        0.210075         0.208002  0.089813          0.145852   \n",
       "InternetService      0.656583         0.652090 -0.286951          0.374351   \n",
       "OnlineSecurity       0.611327         0.616422  0.035108          0.174859   \n",
       "OnlineBackup         0.647114         0.643049 -0.008393          0.249267   \n",
       "DeviceProtection     0.700557         0.706175  0.036236          0.233543   \n",
       "TechSupport          0.658632         0.659399  0.067369          0.201658   \n",
       "StreamingTV          1.000000         0.765461 -0.035536          0.309744   \n",
       "StreamingMovies      0.765461         1.000000 -0.031003          0.300070   \n",
       "Contract            -0.035536        -0.031003  1.000000         -0.176472   \n",
       "PaperlessBilling     0.309744         0.300070 -0.176472          1.000000   \n",
       "PaymentMethod       -0.084332        -0.076947  0.367178         -0.114628   \n",
       "MonthlyCharges       0.789943         0.786510 -0.047260          0.345805   \n",
       "TotalCharges         0.533098         0.535552  0.467410          0.153934   \n",
       "Churn                0.151930         0.149615 -0.405742          0.191454   \n",
       "\n",
       "                  PaymentMethod  MonthlyCharges  TotalCharges     Churn  \n",
       "gender                 0.004651        0.013085      0.001177  0.008545  \n",
       "SeniorCitizen         -0.103386        0.220737      0.107248  0.150541  \n",
       "Partner                0.130683        0.109456      0.343196 -0.149982  \n",
       "Dependents             0.128859       -0.105449      0.082890 -0.163128  \n",
       "tenure                 0.337963        0.275339      0.889177 -0.369659  \n",
       "PhoneService          -0.003083        0.240266      0.084910  0.011691  \n",
       "MultipleLines          0.019937        0.526447      0.430896  0.038156  \n",
       "InternetService       -0.204973        0.884535      0.403318  0.320636  \n",
       "OnlineSecurity         0.031355        0.577432      0.487169  0.011566  \n",
       "OnlineBackup          -0.007736        0.659291      0.534767  0.057207  \n",
       "DeviceProtection       0.001619        0.690759      0.546867  0.068607  \n",
       "TechSupport            0.034941        0.607202      0.495949  0.014899  \n",
       "StreamingTV           -0.084332        0.789943      0.533098  0.151930  \n",
       "StreamingMovies       -0.076947        0.786510      0.535552  0.149615  \n",
       "Contract               0.367178       -0.047260      0.467410 -0.405742  \n",
       "PaperlessBilling      -0.114628        0.345805      0.153934  0.191454  \n",
       "PaymentMethod          1.000000       -0.089621      0.227874 -0.271678  \n",
       "MonthlyCharges        -0.089621        1.000000      0.638032  0.184167  \n",
       "TotalCharges           0.227874        0.638032      1.000000 -0.232190  \n",
       "Churn                 -0.271678        0.184167     -0.232190  1.000000  "
      ]
     },
     "execution_count": 62,
     "metadata": {},
     "output_type": "execute_result"
    }
   ],
   "source": [
    "corr_sprm"
   ]
  },
  {
   "cell_type": "code",
   "execution_count": 63,
   "metadata": {},
   "outputs": [
    {
     "name": "stdout",
     "output_type": "stream",
     "text": [
      "tenure            TotalCharges        0.889177\n",
      "TotalCharges      tenure              0.889177\n",
      "TechSupport       OnlineSecurity      0.710808\n",
      "StreamingTV       StreamingMovies     0.765461\n",
      "                  MonthlyCharges      0.789943\n",
      "                  DeviceProtection    0.700557\n",
      "StreamingMovies   StreamingTV         0.765461\n",
      "                  MonthlyCharges      0.786510\n",
      "                  DeviceProtection    0.706175\n",
      "OnlineSecurity    TechSupport         0.710808\n",
      "MonthlyCharges    StreamingTV         0.789943\n",
      "                  StreamingMovies     0.786510\n",
      "                  InternetService     0.884535\n",
      "InternetService   MonthlyCharges      0.884535\n",
      "DeviceProtection  StreamingTV         0.700557\n",
      "                  StreamingMovies     0.706175\n",
      "dtype: float64\n"
     ]
    }
   ],
   "source": [
    "corr_stack = corr_sprm.abs().unstack()\n",
    "ordered_stack = corr_stack.sort_index(ascending=False)\n",
    "order_corr = []\n",
    "\n",
    "for num in range(len(ordered_stack)):\n",
    "    if ordered_stack[num] > 0.7 and ordered_stack[num] < 1.0:\n",
    "        order_corr.append(num)\n",
    "        \n",
    "print(ordered_stack[order_corr])"
   ]
  },
  {
   "cell_type": "markdown",
   "metadata": {},
   "source": [
    "- 분석 결과, 피어슨 상관계수와 유사한 결과가 나왓으나, 스피어만 상관계수에서는 특성 간 상관계수 수준이 조금 낮아짐\n",
    "- 그 중에서도 0.8 이상의 상관계수를 기록하는 특성-관계를 고름\n",
    "- tenure, StreamingMovies를 삭제하기로 함"
   ]
  },
  {
   "cell_type": "code",
   "execution_count": 90,
   "metadata": {},
   "outputs": [],
   "source": [
    "#다중공선성 문제를 일으킬 가능성이 있는 특성 삭제\n",
    "tele_data = tele_data.drop('tenure', 1)"
   ]
  },
  {
   "cell_type": "code",
   "execution_count": 184,
   "metadata": {},
   "outputs": [],
   "source": [
    "tele_data = tele_data.drop('StreamingTV', 1)"
   ]
  },
  {
   "cell_type": "code",
   "execution_count": 183,
   "metadata": {},
   "outputs": [],
   "source": [
    "tele_data = tele_data.drop('PhoneService', 1)"
   ]
  },
  {
   "cell_type": "code",
   "execution_count": 159,
   "metadata": {},
   "outputs": [],
   "source": [
    "tele_data = tele_data.drop('StreamingTV', 1)"
   ]
  },
  {
   "cell_type": "code",
   "execution_count": 186,
   "metadata": {},
   "outputs": [],
   "source": [
    "tele_data = tele_data.drop('InternetService', 1)"
   ]
  },
  {
   "cell_type": "code",
   "execution_count": 185,
   "metadata": {},
   "outputs": [
    {
     "data": {
      "text/plain": [
       "customerID           object\n",
       "gender                int64\n",
       "SeniorCitizen         int64\n",
       "Partner               int64\n",
       "Dependents            int64\n",
       "tenure                int64\n",
       "MultipleLines         int64\n",
       "InternetService       int64\n",
       "OnlineSecurity        int64\n",
       "OnlineBackup          int64\n",
       "DeviceProtection      int64\n",
       "TechSupport           int64\n",
       "StreamingMovies       int64\n",
       "Contract              int64\n",
       "PaperlessBilling      int64\n",
       "PaymentMethod         int64\n",
       "MonthlyCharges      float64\n",
       "TotalCharges        float64\n",
       "Churn                 int64\n",
       "dtype: object"
      ]
     },
     "execution_count": 185,
     "metadata": {},
     "output_type": "execute_result"
    }
   ],
   "source": [
    "tele_data.dtypes"
   ]
  },
  {
   "cell_type": "markdown",
   "metadata": {},
   "source": [
    "### SVM 분석"
   ]
  },
  {
   "cell_type": "code",
   "execution_count": 109,
   "metadata": {},
   "outputs": [],
   "source": [
    "from sklearn import datasets, svm, metrics\n",
    "import datetime as dt"
   ]
  },
  {
   "cell_type": "code",
   "execution_count": 104,
   "metadata": {},
   "outputs": [],
   "source": [
    "X_data = tele_data.iloc[:,:-1]"
   ]
  },
  {
   "cell_type": "code",
   "execution_count": 105,
   "metadata": {},
   "outputs": [],
   "source": [
    "y = tele_data.iloc[:,-1]"
   ]
  },
  {
   "cell_type": "code",
   "execution_count": 106,
   "metadata": {},
   "outputs": [],
   "source": [
    "x_train, x_test = X_data[:2000], X_data[2000:]\n",
    "y_train, y_test = y[:2000], y[2000:]"
   ]
  },
  {
   "cell_type": "code",
   "execution_count": 111,
   "metadata": {},
   "outputs": [],
   "source": [
    "svc = svm.SVC(kernel='rbf', C=5.0).fit(x_train, y_train)"
   ]
  },
  {
   "cell_type": "code",
   "execution_count": 112,
   "metadata": {},
   "outputs": [],
   "source": [
    "res = svc.predict(x_test)"
   ]
  },
  {
   "cell_type": "code",
   "execution_count": 113,
   "metadata": {},
   "outputs": [],
   "source": [
    "from sklearn.metrics import accuracy_score\n",
    "import matplotlib.pyplot as plt\n",
    "import numpy as np"
   ]
  },
  {
   "cell_type": "code",
   "execution_count": 114,
   "metadata": {},
   "outputs": [
    {
     "name": "stdout",
     "output_type": "stream",
     "text": [
      "정확도 : 0.76\n"
     ]
    }
   ],
   "source": [
    "print('정확도 : %.2f' %accuracy_score(y_test,res))"
   ]
  },
  {
   "cell_type": "code",
   "execution_count": 115,
   "metadata": {},
   "outputs": [
    {
     "name": "stdout",
     "output_type": "stream",
     "text": [
      "Start learning at 2018-06-17 22:34:56.493678\n",
      "Stop learning 2018-06-17 22:34:56.836760\n",
      "Elapsed learning 0:00:00.343082\n"
     ]
    }
   ],
   "source": [
    "param_C = 5\n",
    "param_gamma = 0.05\n",
    "classifier = svm.SVC(C=param_C, kernel = 'rbf', gamma=param_gamma)\n",
    "\n",
    "# We learn the digits on train part\n",
    "start_time = dt.datetime.now()\n",
    "print('Start learning at {}'.format(str(start_time)))\n",
    "classifier.fit(x_train, y_train)\n",
    "end_time = dt.datetime.now() \n",
    "print('Stop learning {}'.format(str(end_time)))\n",
    "elapsed_time= end_time - start_time\n",
    "print('Elapsed learning {}'.format(str(elapsed_time)))"
   ]
  },
  {
   "cell_type": "code",
   "execution_count": 116,
   "metadata": {},
   "outputs": [],
   "source": [
    "expected = y_test\n",
    "predicted = classifier.predict(x_test)"
   ]
  },
  {
   "cell_type": "code",
   "execution_count": 117,
   "metadata": {},
   "outputs": [
    {
     "name": "stdout",
     "output_type": "stream",
     "text": [
      "Classification report for classifier SVC(C=5, cache_size=200, class_weight=None, coef0=0.0,\n",
      "  decision_function_shape='ovr', degree=3, gamma=0.05, kernel='rbf',\n",
      "  max_iter=-1, probability=False, random_state=None, shrinking=True,\n",
      "  tol=0.001, verbose=False):\n",
      "             precision    recall  f1-score   support\n",
      "\n",
      "          0       0.78      0.94      0.85      3691\n",
      "          1       0.62      0.26      0.37      1341\n",
      "\n",
      "avg / total       0.74      0.76      0.72      5032\n",
      "\n",
      "\n",
      "Confusion matrix:\n",
      "[[3473  218]\n",
      " [ 987  354]]\n",
      "Accuracy=0.7605325914149443\n"
     ]
    }
   ],
   "source": [
    "print(\"Classification report for classifier %s:\\n%s\\n\" % (classifier, metrics.classification_report(expected, predicted)))\n",
    "cm = metrics.confusion_matrix(expected, predicted)\n",
    "print(\"Confusion matrix:\\n%s\" % cm)\n",
    "\n",
    "print(\"Accuracy={}\".format(metrics.accuracy_score(expected, predicted)))"
   ]
  },
  {
   "cell_type": "code",
   "execution_count": 118,
   "metadata": {},
   "outputs": [
    {
     "name": "stdout",
     "output_type": "stream",
     "text": [
      "Classification report for classifier SVC(C=5, cache_size=200, class_weight=None, coef0=0.0,\n",
      "  decision_function_shape='ovr', degree=3, gamma=0.05, kernel='rbf',\n",
      "  max_iter=-1, probability=False, random_state=None, shrinking=True,\n",
      "  tol=0.001, verbose=False):\n",
      "             precision    recall  f1-score   support\n",
      "\n",
      "          0       0.78      0.94      0.85      3691\n",
      "          1       0.62      0.26      0.37      1341\n",
      "\n",
      "avg / total       0.74      0.76      0.72      5032\n",
      "\n",
      "\n",
      "Confusion matrix:\n",
      "[[3473  218]\n",
      " [ 987  354]]\n",
      "Accuracy=0.7605325914149443\n"
     ]
    }
   ],
   "source": [
    "print(\"Classification report for classifier %s:\\n%s\\n\" % (classifier, metrics.classification_report(expected, predicted)))\n",
    "cm = metrics.confusion_matrix(expected, predicted)\n",
    "print(\"Confusion matrix:\\n%s\" % cm)\n",
    "\n",
    "print(\"Accuracy={}\".format(metrics.accuracy_score(expected, predicted)))"
   ]
  },
  {
   "cell_type": "markdown",
   "metadata": {},
   "source": [
    "- SVM 분석 결과, 모델의 분류 성능은 76% 수준"
   ]
  },
  {
   "cell_type": "markdown",
   "metadata": {},
   "source": [
    "### Logistic Regression"
   ]
  },
  {
   "cell_type": "code",
   "execution_count": 119,
   "metadata": {},
   "outputs": [
    {
     "name": "stdout",
     "output_type": "stream",
     "text": [
      "Accuracy: 80.10%\n"
     ]
    },
    {
     "data": {
      "text/plain": [
       "LogisticRegression(C=1.0, class_weight=None, dual=False, fit_intercept=True,\n",
       "          intercept_scaling=1, max_iter=100, multi_class='ovr', n_jobs=1,\n",
       "          penalty='l2', random_state=None, solver='liblinear', tol=0.0001,\n",
       "          verbose=0, warm_start=False)"
      ]
     },
     "execution_count": 119,
     "metadata": {},
     "output_type": "execute_result"
    }
   ],
   "source": [
    "from sklearn.linear_model import LogisticRegression\n",
    "x_data = tele_data.drop('Churn', axis=1)\n",
    "y_data = tele_data['Churn']\n",
    "\n",
    "x_train_lr = x_data[2000:]\n",
    "x_test_lr = x_data[:2000]\n",
    "y_train_lr = y_data[2000:]\n",
    "y_test_lr = y_data[:2000]\n",
    "\n",
    "lr = LogisticRegression()\n",
    "lr_fit = lr.fit(x_train_lr, y_train_lr)\n",
    "cv = StratifiedKFold(n_splits=2)\n",
    "lr_cv = cross_val_score(lr, x_test_lr, y_test_lr, cv = cv)\n",
    "score = round(Decimal(np.mean(lr_cv)*100), 2)\n",
    "print('Accuracy: {}%'.format(score))\n",
    "lr_fit"
   ]
  },
  {
   "cell_type": "code",
   "execution_count": 120,
   "metadata": {},
   "outputs": [],
   "source": [
    "predictions = lr.predict(x_test_lr)"
   ]
  },
  {
   "cell_type": "code",
   "execution_count": 121,
   "metadata": {},
   "outputs": [
    {
     "name": "stdout",
     "output_type": "stream",
     "text": [
      "0.8045\n"
     ]
    }
   ],
   "source": [
    "score = lr.score(x_test_lr, y_test_lr)\n",
    "print(score)"
   ]
  },
  {
   "cell_type": "code",
   "execution_count": 122,
   "metadata": {},
   "outputs": [],
   "source": [
    "import matplotlib.pyplot as plt\n",
    "import seaborn as sns\n",
    "from sklearn import metrics"
   ]
  },
  {
   "cell_type": "code",
   "execution_count": 123,
   "metadata": {},
   "outputs": [
    {
     "name": "stdout",
     "output_type": "stream",
     "text": [
      "[[1326  146]\n",
      " [ 245  283]]\n"
     ]
    }
   ],
   "source": [
    "cm = metrics.confusion_matrix(y_test_lr, predictions)\n",
    "print(cm)"
   ]
  },
  {
   "cell_type": "code",
   "execution_count": 124,
   "metadata": {},
   "outputs": [
    {
     "data": {
      "image/png": "[encoded data removed]",
      "text/plain": [
       "<matplotlib.figure.Figure at 0x1f7ee38fb70>"
      ]
     },
     "metadata": {},
     "output_type": "display_data"
    }
   ],
   "source": [
    "plt.figure(figsize=(9,9))\n",
    "sns.heatmap(cm, annot=True, fmt=\".3f\", linewidths=.5, square = True, cmap = 'Blues_r');\n",
    "plt.ylabel('Actual label');\n",
    "plt.xlabel('Predicted label');\n",
    "all_sample_title = 'Accuracy Score: {0}'.format(score)\n",
    "plt.title(all_sample_title, size = 15);"
   ]
  },
  {
   "cell_type": "code",
   "execution_count": 125,
   "metadata": {},
   "outputs": [],
   "source": [
    "from sklearn import linear_model"
   ]
  },
  {
   "cell_type": "code",
   "execution_count": 126,
   "metadata": {},
   "outputs": [
    {
     "data": {
      "text/plain": [
       "LogisticRegression(C=100000.0, class_weight=None, dual=False,\n",
       "          fit_intercept=True, intercept_scaling=1, max_iter=100,\n",
       "          multi_class='ovr', n_jobs=1, penalty='l2', random_state=None,\n",
       "          solver='liblinear', tol=0.0001, verbose=0, warm_start=False)"
      ]
     },
     "execution_count": 126,
     "metadata": {},
     "output_type": "execute_result"
    }
   ],
   "source": [
    "logreg = linear_model.LogisticRegression(C=1e5) # 정규화\n",
    "logreg.fit(x_data, y_data)"
   ]
  },
  {
   "cell_type": "markdown",
   "metadata": {},
   "source": [
    "- 로지스틱 모형 분석 결과, 모델의 분류 성능은 81% 수준"
   ]
  },
  {
   "cell_type": "code",
   "execution_count": 127,
   "metadata": {},
   "outputs": [],
   "source": [
    "from sklearn.metrics import roc_curve, auc\n",
    "from sklearn.model_selection import StratifiedKFold\n",
    "\n",
    "fpr1, tpr1, thresholds1 = roc_curve(y_data, classifier.decision_function(x_data))\n",
    "fpr2, tpr2, thresholds1 = roc_curve(y_data, lr_fit.decision_function(x_data))"
   ]
  },
  {
   "cell_type": "code",
   "execution_count": 40,
   "metadata": {},
   "outputs": [
    {
     "data": {
      "image/png": "[encoded data removed]",
      "text/plain": [
       "<matplotlib.figure.Figure at 0x2da334e5a90>"
      ]
     },
     "metadata": {},
     "output_type": "display_data"
    }
   ],
   "source": [
    "plt.figure(figsize=(7,7))\n",
    "plt.plot(fpr1, tpr1, label=\"Kernel SVM\")\n",
    "plt.plot(fpr2, tpr2, label=\"Logistic Regression\")\n",
    "plt.legend()\n",
    "plt.plot([0, 1], [0, 1], 'k--', label=\"random guess\")\n",
    "plt.xlabel('False Positive Rate (Fall-Out)')\n",
    "plt.ylabel('True Positive Rate (Recall)')\n",
    "plt.title('Receiver operating characteristic example')\n",
    "plt.show()"
   ]
  },
  {
   "cell_type": "markdown",
   "metadata": {},
   "source": [
    "### Neural Network"
   ]
  },
  {
   "cell_type": "code",
   "execution_count": 41,
   "metadata": {},
   "outputs": [],
   "source": [
    "from sklearn.datasets import fetch_mldata\n",
    "from sklearn.neural_network import MLPClassifier\n",
    "import time"
   ]
  },
  {
   "cell_type": "code",
   "execution_count": 42,
   "metadata": {},
   "outputs": [
    {
     "name": "stdout",
     "output_type": "stream",
     "text": [
      "Iteration 1, loss = 0.71510435\n",
      "Iteration 2, loss = 0.64712113\n",
      "Iteration 3, loss = 0.64193589\n",
      "Iteration 4, loss = 0.63640141\n",
      "Iteration 5, loss = 0.63087013\n",
      "Iteration 6, loss = 0.62576647\n",
      "Iteration 7, loss = 0.62040200\n",
      "Iteration 8, loss = 0.61570976\n",
      "Iteration 9, loss = 0.61120358\n",
      "Iteration 10, loss = 0.60726496\n",
      "Iteration 11, loss = 0.60351065\n",
      "Iteration 12, loss = 0.59988198\n",
      "Iteration 13, loss = 0.59661526\n",
      "Iteration 14, loss = 0.59381430\n",
      "Iteration 15, loss = 0.59087606\n",
      "Iteration 16, loss = 0.58811324\n",
      "Iteration 17, loss = 0.58569667\n",
      "Iteration 18, loss = 0.58336670\n",
      "Iteration 19, loss = 0.58133117\n",
      "Iteration 20, loss = 0.57921789\n",
      "Iteration 21, loss = 0.57727548\n",
      "Iteration 22, loss = 0.57555717\n",
      "Iteration 23, loss = 0.57391640\n",
      "Iteration 24, loss = 0.57220462\n",
      "Iteration 25, loss = 0.57084899\n",
      "Iteration 26, loss = 0.56944127\n",
      "Iteration 27, loss = 0.56814563\n",
      "Iteration 28, loss = 0.56694811\n",
      "Iteration 29, loss = 0.56575240\n",
      "Iteration 30, loss = 0.56475385\n",
      "Iteration 31, loss = 0.56370694\n",
      "Iteration 32, loss = 0.56279367\n",
      "Iteration 33, loss = 0.56183537\n",
      "Iteration 34, loss = 0.56101745\n",
      "Iteration 35, loss = 0.56028575\n",
      "Iteration 36, loss = 0.55954295\n",
      "Iteration 37, loss = 0.55889327\n",
      "Iteration 38, loss = 0.55811223\n",
      "Iteration 39, loss = 0.55756597\n",
      "Iteration 40, loss = 0.55699043\n",
      "Iteration 41, loss = 0.55641718\n",
      "Iteration 42, loss = 0.55589725\n",
      "Iteration 43, loss = 0.55545224\n",
      "Iteration 44, loss = 0.55497308\n",
      "Iteration 45, loss = 0.55451432\n",
      "Iteration 46, loss = 0.55414280\n",
      "Iteration 47, loss = 0.55372490\n",
      "Iteration 48, loss = 0.55336180\n",
      "Iteration 49, loss = 0.55307310\n",
      "Iteration 50, loss = 0.55268563\n",
      "Training set score: 0.761000\n",
      "Test set score: 0.760930\n",
      "--- 0.19148802757263184 seconds ---\n"
     ]
    },
    {
     "name": "stderr",
     "output_type": "stream",
     "text": [
      "C:\\Anaconda\\lib\\site-packages\\sklearn\\neural_network\\multilayer_perceptron.py:564: ConvergenceWarning: Stochastic Optimizer: Maximum iterations (50) reached and the optimization hasn't converged yet.\n",
      "  % self.max_iter, ConvergenceWarning)\n"
     ]
    }
   ],
   "source": [
    "start_time = time.time()\n",
    "mlp = MLPClassifier(hidden_layer_sizes=(3,2),\n",
    "                    max_iter=50, solver='sgd', verbose=1, learning_rate_init=.0015)\n",
    "mlp.fit(x_train, y_train)\n",
    "\n",
    "print(\"Training set score: %f\" % mlp.score(x_train, y_train))\n",
    "print(\"Test set score: %f\" % mlp.score(x_test, y_test))\n",
    "print(\"--- %s seconds ---\" % (time.time() - start_time))"
   ]
  },
  {
   "cell_type": "code",
   "execution_count": 93,
   "metadata": {},
   "outputs": [],
   "source": [
    "import scipy.stats"
   ]
  },
  {
   "cell_type": "code",
   "execution_count": 95,
   "metadata": {},
   "outputs": [],
   "source": [
    "import statsmodels.api as sm"
   ]
  },
  {
   "cell_type": "code",
   "execution_count": 128,
   "metadata": {},
   "outputs": [],
   "source": [
    "x_data_logit = np.asarray(x_data)"
   ]
  },
  {
   "cell_type": "code",
   "execution_count": 129,
   "metadata": {},
   "outputs": [],
   "source": [
    "logit = sm.Logit(y_data, x_data_logit)"
   ]
  },
  {
   "cell_type": "code",
   "execution_count": 130,
   "metadata": {},
   "outputs": [
    {
     "name": "stdout",
     "output_type": "stream",
     "text": [
      "Optimization terminated successfully.\n",
      "         Current function value: 0.425849\n",
      "         Iterations 7\n"
     ]
    }
   ],
   "source": [
    "result = logit.fit() "
   ]
  },
  {
   "cell_type": "code",
   "execution_count": 131,
   "metadata": {},
   "outputs": [
    {
     "data": {
      "text/html": [
       "<table class=\"simpletable\">\n",
       "<caption>Logit Regression Results</caption>\n",
       "<tr>\n",
       "  <th>Dep. Variable:</th>       <td>Churn</td>      <th>  No. Observations:  </th>  <td>  7032</td> \n",
       "</tr>\n",
       "<tr>\n",
       "  <th>Model:</th>               <td>Logit</td>      <th>  Df Residuals:      </th>  <td>  7018</td> \n",
       "</tr>\n",
       "<tr>\n",
       "  <th>Method:</th>               <td>MLE</td>       <th>  Df Model:          </th>  <td>    13</td> \n",
       "</tr>\n",
       "<tr>\n",
       "  <th>Date:</th>          <td>Sun, 17 Jun 2018</td> <th>  Pseudo R-squ.:     </th>  <td>0.2645</td> \n",
       "</tr>\n",
       "<tr>\n",
       "  <th>Time:</th>              <td>22:35:20</td>     <th>  Log-Likelihood:    </th> <td> -2994.6</td>\n",
       "</tr>\n",
       "<tr>\n",
       "  <th>converged:</th>           <td>True</td>       <th>  LL-Null:           </th> <td> -4071.7</td>\n",
       "</tr>\n",
       "<tr>\n",
       "  <th> </th>                      <td> </td>        <th>  LLR p-value:       </th>  <td> 0.000</td> \n",
       "</tr>\n",
       "</table>\n",
       "<table class=\"simpletable\">\n",
       "<tr>\n",
       "   <td></td>      <th>coef</th>     <th>std err</th>      <th>z</th>      <th>P>|z|</th>  <th>[0.025</th>    <th>0.975]</th>  \n",
       "</tr>\n",
       "<tr>\n",
       "  <th>x1</th>  <td>   -0.0931</td> <td>    0.075</td> <td>   -1.237</td> <td> 0.216</td> <td>   -0.241</td> <td>    0.054</td>\n",
       "</tr>\n",
       "<tr>\n",
       "  <th>x2</th>  <td>   -0.2379</td> <td>    0.087</td> <td>   -2.737</td> <td> 0.006</td> <td>   -0.408</td> <td>   -0.068</td>\n",
       "</tr>\n",
       "<tr>\n",
       "  <th>x3</th>  <td>   -1.4882</td> <td>    0.149</td> <td>   -9.991</td> <td> 0.000</td> <td>   -1.780</td> <td>   -1.196</td>\n",
       "</tr>\n",
       "<tr>\n",
       "  <th>x4</th>  <td>    0.2129</td> <td>    0.083</td> <td>    2.565</td> <td> 0.010</td> <td>    0.050</td> <td>    0.376</td>\n",
       "</tr>\n",
       "<tr>\n",
       "  <th>x5</th>  <td>    0.7295</td> <td>    0.136</td> <td>    5.367</td> <td> 0.000</td> <td>    0.463</td> <td>    0.996</td>\n",
       "</tr>\n",
       "<tr>\n",
       "  <th>x6</th>  <td>   -0.4322</td> <td>    0.075</td> <td>   -5.751</td> <td> 0.000</td> <td>   -0.580</td> <td>   -0.285</td>\n",
       "</tr>\n",
       "<tr>\n",
       "  <th>x7</th>  <td>   -0.2177</td> <td>    0.072</td> <td>   -3.045</td> <td> 0.002</td> <td>   -0.358</td> <td>   -0.078</td>\n",
       "</tr>\n",
       "<tr>\n",
       "  <th>x8</th>  <td>   -0.3675</td> <td>    0.078</td> <td>   -4.699</td> <td> 0.000</td> <td>   -0.521</td> <td>   -0.214</td>\n",
       "</tr>\n",
       "<tr>\n",
       "  <th>x9</th>  <td>    0.1344</td> <td>    0.093</td> <td>    1.449</td> <td> 0.147</td> <td>   -0.047</td> <td>    0.316</td>\n",
       "</tr>\n",
       "<tr>\n",
       "  <th>x10</th> <td>   -0.9204</td> <td>    0.072</td> <td>  -12.836</td> <td> 0.000</td> <td>   -1.061</td> <td>   -0.780</td>\n",
       "</tr>\n",
       "<tr>\n",
       "  <th>x11</th> <td>    0.2616</td> <td>    0.071</td> <td>    3.669</td> <td> 0.000</td> <td>    0.122</td> <td>    0.401</td>\n",
       "</tr>\n",
       "<tr>\n",
       "  <th>x12</th> <td>   -0.2286</td> <td>    0.027</td> <td>   -8.330</td> <td> 0.000</td> <td>   -0.282</td> <td>   -0.175</td>\n",
       "</tr>\n",
       "<tr>\n",
       "  <th>x13</th> <td>    0.0212</td> <td>    0.006</td> <td>    3.812</td> <td> 0.000</td> <td>    0.010</td> <td>    0.032</td>\n",
       "</tr>\n",
       "<tr>\n",
       "  <th>x14</th> <td>   -0.0003</td> <td> 2.66e-05</td> <td>  -11.124</td> <td> 0.000</td> <td>   -0.000</td> <td>   -0.000</td>\n",
       "</tr>\n",
       "</table>"
      ],
      "text/plain": [
       "<class 'statsmodels.iolib.summary.Summary'>\n",
       "\"\"\"\n",
       "                           Logit Regression Results                           \n",
       "==============================================================================\n",
       "Dep. Variable:                  Churn   No. Observations:                 7032\n",
       "Model:                          Logit   Df Residuals:                     7018\n",
       "Method:                           MLE   Df Model:                           13\n",
       "Date:                Sun, 17 Jun 2018   Pseudo R-squ.:                  0.2645\n",
       "Time:                        22:35:20   Log-Likelihood:                -2994.6\n",
       "converged:                       True   LL-Null:                       -4071.7\n",
       "                                        LLR p-value:                     0.000\n",
       "==============================================================================\n",
       "                 coef    std err          z      P>|z|      [0.025      0.975]\n",
       "------------------------------------------------------------------------------\n",
       "x1            -0.0931      0.075     -1.237      0.216      -0.241       0.054\n",
       "x2            -0.2379      0.087     -2.737      0.006      -0.408      -0.068\n",
       "x3            -1.4882      0.149     -9.991      0.000      -1.780      -1.196\n",
       "x4             0.2129      0.083      2.565      0.010       0.050       0.376\n",
       "x5             0.7295      0.136      5.367      0.000       0.463       0.996\n",
       "x6            -0.4322      0.075     -5.751      0.000      -0.580      -0.285\n",
       "x7            -0.2177      0.072     -3.045      0.002      -0.358      -0.078\n",
       "x8            -0.3675      0.078     -4.699      0.000      -0.521      -0.214\n",
       "x9             0.1344      0.093      1.449      0.147      -0.047       0.316\n",
       "x10           -0.9204      0.072    -12.836      0.000      -1.061      -0.780\n",
       "x11            0.2616      0.071      3.669      0.000       0.122       0.401\n",
       "x12           -0.2286      0.027     -8.330      0.000      -0.282      -0.175\n",
       "x13            0.0212      0.006      3.812      0.000       0.010       0.032\n",
       "x14           -0.0003   2.66e-05    -11.124      0.000      -0.000      -0.000\n",
       "==============================================================================\n",
       "\"\"\""
      ]
     },
     "execution_count": 131,
     "metadata": {},
     "output_type": "execute_result"
    }
   ],
   "source": [
    "result.summary()"
   ]
  },
  {
   "cell_type": "code",
   "execution_count": 132,
   "metadata": {},
   "outputs": [
    {
     "name": "stdout",
     "output_type": "stream",
     "text": [
      "                           Logit Regression Results                           \n",
      "==============================================================================\n",
      "Dep. Variable:                  Churn   No. Observations:                 7032\n",
      "Model:                          Logit   Df Residuals:                     7018\n",
      "Method:                           MLE   Df Model:                           13\n",
      "Date:                Sun, 17 Jun 2018   Pseudo R-squ.:                  0.2645\n",
      "Time:                        22:35:23   Log-Likelihood:                -2994.6\n",
      "converged:                       True   LL-Null:                       -4071.7\n",
      "                                        LLR p-value:                     0.000\n",
      "====================================================================================\n",
      "                       coef    std err          z      P>|z|      [0.025      0.975]\n",
      "------------------------------------------------------------------------------------\n",
      "Partner             -0.0931      0.075     -1.237      0.216      -0.241       0.054\n",
      "Dependents          -0.2379      0.087     -2.737      0.006      -0.408      -0.068\n",
      "PhoneService        -1.4882      0.149     -9.991      0.000      -1.780      -1.196\n",
      "MultipleLines        0.2129      0.083      2.565      0.010       0.050       0.376\n",
      "InternetService      0.7295      0.136      5.367      0.000       0.463       0.996\n",
      "OnlineSecurity      -0.4322      0.075     -5.751      0.000      -0.580      -0.285\n",
      "OnlineBackup        -0.2177      0.072     -3.045      0.002      -0.358      -0.078\n",
      "TechSupport         -0.3675      0.078     -4.699      0.000      -0.521      -0.214\n",
      "StreamingTV          0.1344      0.093      1.449      0.147      -0.047       0.316\n",
      "Contract            -0.9204      0.072    -12.836      0.000      -1.061      -0.780\n",
      "PaperlessBilling     0.2616      0.071      3.669      0.000       0.122       0.401\n",
      "PaymentMethod       -0.2286      0.027     -8.330      0.000      -0.282      -0.175\n",
      "MonthlyCharges       0.0212      0.006      3.812      0.000       0.010       0.032\n",
      "TotalCharges        -0.0003   2.66e-05    -11.124      0.000      -0.000      -0.000\n",
      "====================================================================================\n"
     ]
    }
   ],
   "source": [
    "from scipy import stats\n",
    "stats.chisqprob = lambda chisq, df: stats.chi2.sf(chisq, df)\n",
    "\n",
    "logit_mod = sm.Logit(y_data, x_data)\n",
    "logit_res = logit_mod.fit(disp=0)\n",
    "print(logit_res.summary())"
   ]
  },
  {
   "cell_type": "code",
   "execution_count": 142,
   "metadata": {},
   "outputs": [
    {
     "data": {
      "text/plain": [
       "0    0\n",
       "1    0\n",
       "2    1\n",
       "3    0\n",
       "4    1\n",
       "Name: Churn, dtype: int64"
      ]
     },
     "execution_count": 142,
     "metadata": {},
     "output_type": "execute_result"
    }
   ],
   "source": [
    "tele_data['Churn'].head()"
   ]
  },
  {
   "cell_type": "code",
   "execution_count": 152,
   "metadata": {},
   "outputs": [
    {
     "name": "stdout",
     "output_type": "stream",
     "text": [
      "                           Logit Regression Results                           \n",
      "==============================================================================\n",
      "Dep. Variable:                  Churn   No. Observations:                 7032\n",
      "Model:                          Logit   Df Residuals:                     7028\n",
      "Method:                           MLE   Df Model:                            3\n",
      "Date:                Sun, 17 Jun 2018   Pseudo R-squ.:                  0.1921\n",
      "Time:                        22:50:58   Log-Likelihood:                -3289.3\n",
      "converged:                       True   LL-Null:                       -4071.7\n",
      "                                        LLR p-value:                     0.000\n",
      "===================================================================================\n",
      "                      coef    std err          z      P>|z|      [0.025      0.975]\n",
      "-----------------------------------------------------------------------------------\n",
      "Dependents         -0.6559      0.073     -9.032      0.000      -0.798      -0.514\n",
      "InternetService     0.5657      0.044     12.786      0.000       0.479       0.652\n",
      "TechSupport        -0.7205      0.060    -11.948      0.000      -0.839      -0.602\n",
      "Contract           -1.6345      0.061    -26.779      0.000      -1.754      -1.515\n",
      "===================================================================================\n"
     ]
    }
   ],
   "source": [
    "from scipy import stats\n",
    "stats.chisqprob = lambda chisq, df: stats.chi2.sf(chisq, df)\n",
    "\n",
    "logit_mod = sm.Logit(y_data, x_data)\n",
    "logit_res = logit_mod.fit(disp=0)\n",
    "print(logit_res.summary())"
   ]
  },
  {
   "cell_type": "code",
   "execution_count": 151,
   "metadata": {},
   "outputs": [],
   "source": [
    "x_data = x_data.drop('PaperlessBilling',1)"
   ]
  },
  {
   "cell_type": "code",
   "execution_count": 101,
   "metadata": {},
   "outputs": [],
   "source": [
    "tele_data = tele_data.drop('gender', 1)\n",
    "tele_data = tele_data.drop('DeviceProtection', 1)\n",
    "tele_data = tele_data.drop('SeniorCitizen', 1)"
   ]
  },
  {
   "cell_type": "code",
   "execution_count": 184,
   "metadata": {},
   "outputs": [
    {
     "name": "stdout",
     "output_type": "stream",
     "text": [
      "                           Logit Regression Results                           \n",
      "==============================================================================\n",
      "Dep. Variable:                  Churn   No. Observations:                 7032\n",
      "Model:                          Logit   Df Residuals:                     7017\n",
      "Method:                           MLE   Df Model:                           14\n",
      "Date:                Fri, 15 Jun 2018   Pseudo R-squ.:                  0.2602\n",
      "Time:                        05:26:38   Log-Likelihood:                -3012.3\n",
      "converged:                       True   LL-Null:                       -4071.7\n",
      "                                        LLR p-value:                     0.000\n",
      "====================================================================================\n",
      "                       coef    std err          z      P>|z|      [0.025      0.975]\n",
      "------------------------------------------------------------------------------------\n",
      "gender              -0.0337      0.063     -0.537      0.591      -0.157       0.089\n",
      "SeniorCitizen        0.1498      0.084      1.791      0.073      -0.014       0.314\n",
      "Partner             -0.1096      0.076     -1.450      0.147      -0.258       0.039\n",
      "Dependents          -0.2072      0.088     -2.354      0.019      -0.380      -0.035\n",
      "PhoneService        -1.1922      0.127     -9.372      0.000      -1.441      -0.943\n",
      "MultipleLines        0.3161      0.078      4.059      0.000       0.163       0.469\n",
      "InternetService      1.2526      0.074     16.963      0.000       1.108       1.397\n",
      "OnlineSecurity      -0.3878      0.075     -5.156      0.000      -0.535      -0.240\n",
      "OnlineBackup        -0.1534      0.071     -2.160      0.031      -0.293      -0.014\n",
      "DeviceProtection     0.0889      0.073      1.225      0.221      -0.053       0.231\n",
      "TechSupport         -0.2425      0.077     -3.142      0.002      -0.394      -0.091\n",
      "Contract            -0.8921      0.071    -12.509      0.000      -1.032      -0.752\n",
      "PaperlessBilling     0.2900      0.071      4.102      0.000       0.151       0.429\n",
      "PaymentMethod       -0.2435      0.027     -8.891      0.000      -0.297      -0.190\n",
      "TotalCharges        -0.0002   2.37e-05    -10.148      0.000      -0.000      -0.000\n",
      "====================================================================================\n"
     ]
    }
   ],
   "source": [
    "from scipy import stats\n",
    "stats.chisqprob = lambda chisq, df: stats.chi2.sf(chisq, df)\n",
    "\n",
    "logit_mod = sm.Logit(y_data, x_data)\n",
    "logit_res = logit_mod.fit(disp=0)\n",
    "print(logit_res.summary())"
   ]
  },
  {
   "cell_type": "code",
   "execution_count": 11,
   "metadata": {},
   "outputs": [
    {
     "data": {
      "image/png": "[encoded data removed]",
      "text/plain": [
       "<matplotlib.figure.Figure at 0x1f7ec226f28>"
      ]
     },
     "metadata": {},
     "output_type": "display_data"
    }
   ],
   "source": [
    "sns.factorplot(x='DeviceProtection', col='Churn', kind='count', data=tele_data);"
   ]
  },
  {
   "cell_type": "code",
   "execution_count": 12,
   "metadata": {},
   "outputs": [
    {
     "data": {
      "image/png": "[encoded data removed]",
      "text/plain": [
       "<matplotlib.figure.Figure at 0x1f7ec226e80>"
      ]
     },
     "metadata": {},
     "output_type": "display_data"
    }
   ],
   "source": [
    "sns.factorplot(x='PaymentMethod', col='Churn', kind='count', size=8, data=tele_data);"
   ]
  },
  {
   "cell_type": "code",
   "execution_count": 13,
   "metadata": {},
   "outputs": [
    {
     "data": {
      "text/plain": [
       "count                 7032\n",
       "unique                   4\n",
       "top       Electronic check\n",
       "freq                  2365\n",
       "Name: PaymentMethod, dtype: object"
      ]
     },
     "execution_count": 13,
     "metadata": {},
     "output_type": "execute_result"
    }
   ],
   "source": [
    "tele_data.PaymentMethod.describe()"
   ]
  },
  {
   "cell_type": "code",
   "execution_count": 14,
   "metadata": {},
   "outputs": [
    {
     "data": {
      "image/png": "[encoded data removed]",
      "text/plain": [
       "<matplotlib.figure.Figure at 0x1f7ec61c4e0>"
      ]
     },
     "metadata": {},
     "output_type": "display_data"
    }
   ],
   "source": [
    "sns.factorplot(x='StreamingTV', col='Churn', kind='count', data=tele_data);"
   ]
  },
  {
   "cell_type": "markdown",
   "metadata": {},
   "source": [
    "- TV 서비스에 가입하지 않은 경우에 이탈 빈도가 높지만, 가입한 경우의 빈도와 큰 차이를 보이고 있지 않음."
   ]
  },
  {
   "cell_type": "code",
   "execution_count": 15,
   "metadata": {},
   "outputs": [
    {
     "data": {
      "image/png": "[encoded data removed]",
      "text/plain": [
       "<matplotlib.figure.Figure at 0x1f7ec6147f0>"
      ]
     },
     "metadata": {},
     "output_type": "display_data"
    }
   ],
   "source": [
    "sns.factorplot(x='PhoneService', col='Churn', kind='count', data=tele_data);"
   ]
  },
  {
   "cell_type": "markdown",
   "metadata": {},
   "source": [
    "- 전화 서비스에 가입한 사람일수록 이탈 빈도가 낮음"
   ]
  },
  {
   "cell_type": "code",
   "execution_count": 21,
   "metadata": {},
   "outputs": [
    {
     "data": {
      "image/png": "[encoded data removed]",
      "text/plain": [
       "<matplotlib.figure.Figure at 0x1f7ede9f588>"
      ]
     },
     "metadata": {},
     "output_type": "display_data"
    }
   ],
   "source": [
    "sns.factorplot(x='SeniorCitizen', col='Churn', kind='count', data=tele_data);"
   ]
  },
  {
   "cell_type": "markdown",
   "metadata": {},
   "source": [
    "- 고령 사용자 층에서는 이탈 여부에 대한 큰 차이가 없음."
   ]
  },
  {
   "cell_type": "code",
   "execution_count": 17,
   "metadata": {},
   "outputs": [
    {
     "data": {
      "image/png": "[encoded data removed]",
      "text/plain": [
       "<matplotlib.figure.Figure at 0x1f7ecde1390>"
      ]
     },
     "metadata": {},
     "output_type": "display_data"
    }
   ],
   "source": [
    "sns.factorplot(x='InternetService', col='Churn', kind='count', data=tele_data);"
   ]
  },
  {
   "cell_type": "code",
   "execution_count": 79,
   "metadata": {},
   "outputs": [
    {
     "data": {
      "image/png": "[encoded data removed]",
      "text/plain": [
       "<matplotlib.figure.Figure at 0x1f7f6c13f28>"
      ]
     },
     "metadata": {},
     "output_type": "display_data"
    }
   ],
   "source": [
    "sns.factorplot(x='InternetService', col='Contract', kind='count', data=tele_data);"
   ]
  },
  {
   "cell_type": "code",
   "execution_count": 77,
   "metadata": {},
   "outputs": [
    {
     "ename": "ValueError",
     "evalue": "Plot kind 'sum' is not recognized",
     "output_type": "error",
     "traceback": [
      "\u001b[1;31m---------------------------------------------------------------------------\u001b[0m",
      "\u001b[1;31mKeyError\u001b[0m                                  Traceback (most recent call last)",
      "\u001b[1;32mC:\\Anaconda\\lib\\site-packages\\seaborn\\categorical.py\u001b[0m in \u001b[0;36mfactorplot\u001b[1;34m(x, y, hue, data, row, col, col_wrap, estimator, ci, n_boot, units, order, hue_order, row_order, col_order, kind, size, aspect, orient, color, palette, legend, legend_out, sharex, sharey, margin_titles, facet_kws, **kwargs)\u001b[0m\n\u001b[0;32m   3470\u001b[0m     \u001b[1;32mtry\u001b[0m\u001b[1;33m:\u001b[0m\u001b[1;33m\u001b[0m\u001b[0m\n\u001b[1;32m-> 3471\u001b[1;33m         \u001b[0mplot_func\u001b[0m \u001b[1;33m=\u001b[0m \u001b[0mglobals\u001b[0m\u001b[1;33m(\u001b[0m\u001b[1;33m)\u001b[0m\u001b[1;33m[\u001b[0m\u001b[0mkind\u001b[0m \u001b[1;33m+\u001b[0m \u001b[1;34m\"plot\"\u001b[0m\u001b[1;33m]\u001b[0m\u001b[1;33m\u001b[0m\u001b[0m\n\u001b[0m\u001b[0;32m   3472\u001b[0m     \u001b[1;32mexcept\u001b[0m \u001b[0mKeyError\u001b[0m\u001b[1;33m:\u001b[0m\u001b[1;33m\u001b[0m\u001b[0m\n",
      "\u001b[1;31mKeyError\u001b[0m: 'sumplot'",
      "\nDuring handling of the above exception, another exception occurred:\n",
      "\u001b[1;31mValueError\u001b[0m                                Traceback (most recent call last)",
      "\u001b[1;32m<ipython-input-77-91e1a2d2a9e4>\u001b[0m in \u001b[0;36m<module>\u001b[1;34m()\u001b[0m\n\u001b[1;32m----> 1\u001b[1;33m \u001b[0msns\u001b[0m\u001b[1;33m.\u001b[0m\u001b[0mfactorplot\u001b[0m\u001b[1;33m(\u001b[0m\u001b[0mx\u001b[0m\u001b[1;33m=\u001b[0m\u001b[1;34m'InternetService'\u001b[0m\u001b[1;33m,\u001b[0m \u001b[0mcol\u001b[0m\u001b[1;33m=\u001b[0m\u001b[1;34m'TotalCharges'\u001b[0m\u001b[1;33m,\u001b[0m \u001b[0mkind\u001b[0m\u001b[1;33m=\u001b[0m\u001b[1;34m'sum'\u001b[0m\u001b[1;33m,\u001b[0m \u001b[0mdata\u001b[0m\u001b[1;33m=\u001b[0m\u001b[0mtele_data\u001b[0m\u001b[1;33m)\u001b[0m\u001b[1;33m;\u001b[0m\u001b[1;33m\u001b[0m\u001b[0m\n\u001b[0m",
      "\u001b[1;32mC:\\Anaconda\\lib\\site-packages\\seaborn\\categorical.py\u001b[0m in \u001b[0;36mfactorplot\u001b[1;34m(x, y, hue, data, row, col, col_wrap, estimator, ci, n_boot, units, order, hue_order, row_order, col_order, kind, size, aspect, orient, color, palette, legend, legend_out, sharex, sharey, margin_titles, facet_kws, **kwargs)\u001b[0m\n\u001b[0;32m   3472\u001b[0m     \u001b[1;32mexcept\u001b[0m \u001b[0mKeyError\u001b[0m\u001b[1;33m:\u001b[0m\u001b[1;33m\u001b[0m\u001b[0m\n\u001b[0;32m   3473\u001b[0m         \u001b[0merr\u001b[0m \u001b[1;33m=\u001b[0m \u001b[1;34m\"Plot kind '{}' is not recognized\"\u001b[0m\u001b[1;33m.\u001b[0m\u001b[0mformat\u001b[0m\u001b[1;33m(\u001b[0m\u001b[0mkind\u001b[0m\u001b[1;33m)\u001b[0m\u001b[1;33m\u001b[0m\u001b[0m\n\u001b[1;32m-> 3474\u001b[1;33m         \u001b[1;32mraise\u001b[0m \u001b[0mValueError\u001b[0m\u001b[1;33m(\u001b[0m\u001b[0merr\u001b[0m\u001b[1;33m)\u001b[0m\u001b[1;33m\u001b[0m\u001b[0m\n\u001b[0m\u001b[0;32m   3475\u001b[0m \u001b[1;33m\u001b[0m\u001b[0m\n\u001b[0;32m   3476\u001b[0m     \u001b[1;31m# Alias the input variables to determine categorical order and palette\u001b[0m\u001b[1;33m\u001b[0m\u001b[1;33m\u001b[0m\u001b[0m\n",
      "\u001b[1;31mValueError\u001b[0m: Plot kind 'sum' is not recognized"
     ]
    }
   ],
   "source": [
    "sns.factorplot(x='InternetService', col='', kind='count', data=tele_data);"
   ]
  },
  {
   "cell_type": "markdown",
   "metadata": {},
   "source": [
    "- 인터넷 연결 방식 중 광섬유 방식(Fiber Optic)에 문제가 있는 것으로 추정됨."
   ]
  },
  {
   "cell_type": "code",
   "execution_count": 18,
   "metadata": {},
   "outputs": [
    {
     "data": {
      "image/png": "[encoded data removed]",
      "text/plain": [
       "<matplotlib.figure.Figure at 0x1f7eccd15c0>"
      ]
     },
     "metadata": {},
     "output_type": "display_data"
    }
   ],
   "source": [
    "sns.factorplot(x='Contract', col='Churn', kind='count', data=tele_data);"
   ]
  },
  {
   "cell_type": "markdown",
   "metadata": {},
   "source": [
    "- 장기 가입자일수록 이탈하지 않고, 단기간 가입자일수록 이탈 빈도가 높음"
   ]
  },
  {
   "cell_type": "code",
   "execution_count": 19,
   "metadata": {},
   "outputs": [
    {
     "data": {
      "image/png": "[encoded data removed]",
      "text/plain": [
       "<matplotlib.figure.Figure at 0x1f7ede8da90>"
      ]
     },
     "metadata": {},
     "output_type": "display_data"
    }
   ],
   "source": [
    "sns.factorplot(x='Dependents', col='Churn', kind='count', data=tele_data);"
   ]
  },
  {
   "cell_type": "code",
   "execution_count": 160,
   "metadata": {},
   "outputs": [
    {
     "data": {
      "image/png": "[encoded data removed]",
      "text/plain": [
       "<matplotlib.figure.Figure at 0x1f7ee4ffdd8>"
      ]
     },
     "metadata": {},
     "output_type": "display_data"
    }
   ],
   "source": [
    "sns.factorplot(x='MultipleLines', col='Churn', kind='count', data=tele_data);"
   ]
  },
  {
   "cell_type": "code",
   "execution_count": 161,
   "metadata": {},
   "outputs": [
    {
     "data": {
      "image/png": "[encoded data removed]",
      "text/plain": [
       "<matplotlib.figure.Figure at 0x1f7f6a6fcf8>"
      ]
     },
     "metadata": {},
     "output_type": "display_data"
    }
   ],
   "source": [
    "sns.factorplot(x='PhoneService', col='Churn', kind='count', data=tele_data);"
   ]
  },
  {
   "cell_type": "markdown",
   "metadata": {},
   "source": [
    "- 부양할 가족이 있는 경우가 고객이 이탈하지 않는 빈도가 높음"
   ]
  },
  {
   "cell_type": "code",
   "execution_count": 20,
   "metadata": {},
   "outputs": [
    {
     "data": {
      "image/png": "[encoded data removed]",
      "text/plain": [
       "<matplotlib.figure.Figure at 0x1f7ec92c550>"
      ]
     },
     "metadata": {},
     "output_type": "display_data"
    }
   ],
   "source": [
    "sns.factorplot(x='Partner', col='Churn', kind='count', data=tele_data);"
   ]
  },
  {
   "cell_type": "markdown",
   "metadata": {},
   "source": [
    "- 배우자가 있는 경우가 고객이 이탈하지 않는 빈도가 높음"
   ]
  },
  {
   "cell_type": "code",
   "execution_count": 98,
   "metadata": {},
   "outputs": [],
   "source": [
    "x = tele_data.TotalCharges\n",
    "w=1\n",
    "b=1\n",
    "z=w*x+b"
   ]
  },
  {
   "cell_type": "code",
   "execution_count": 99,
   "metadata": {},
   "outputs": [],
   "source": [
    "#y_data는 churn에 대한 변수\n",
    "churn = np.where(y_data==1)\n",
    "Xchurn = np.where(y_data==0)"
   ]
  },
  {
   "cell_type": "code",
   "execution_count": 100,
   "metadata": {},
   "outputs": [],
   "source": [
    "def sigmoid(z):\n",
    "    return 1/(1+np.exp(-z))"
   ]
  },
  {
   "cell_type": "code",
   "execution_count": 101,
   "metadata": {},
   "outputs": [],
   "source": [
    "def CostFunction(W, x, y):\n",
    "    m = y.size\n",
    "    for i in range(10000):\n",
    "        h = sigmoid(np.dot(W,x))\n",
    "        cost = -(1/m) * sum(y*np.log(h) + (1-y)*np.log(1-h))\n",
    "        if (i%100) ==0:\n",
    "            print('cost : ' , cost)\n",
    "        grad = (1/m)*((np.dot(x,h-y)))\n",
    "        W=W-0.0001*grad\n",
    "    return W, grad, cost"
   ]
  },
  {
   "cell_type": "code",
   "execution_count": 92,
   "metadata": {},
   "outputs": [],
   "source": [
    "import random\n",
    "W=[random.uniform(-1.0,1.0), random.uniform(-1.0,1.0), random.uniform(-1.0,1.0)] #parameter setting"
   ]
  },
  {
   "cell_type": "code",
   "execution_count": 102,
   "metadata": {},
   "outputs": [
    {
     "ename": "ValueError",
     "evalue": "shapes (3,) and (7032,) not aligned: 3 (dim 0) != 7032 (dim 0)",
     "output_type": "error",
     "traceback": [
      "\u001b[1;31m---------------------------------------------------------------------------\u001b[0m",
      "\u001b[1;31mValueError\u001b[0m                                Traceback (most recent call last)",
      "\u001b[1;32m<ipython-input-102-a579736038c2>\u001b[0m in \u001b[0;36m<module>\u001b[1;34m()\u001b[0m\n\u001b[1;32m----> 1\u001b[1;33m \u001b[0mCostFunction\u001b[0m\u001b[1;33m(\u001b[0m\u001b[0mW\u001b[0m\u001b[1;33m,\u001b[0m \u001b[0mx\u001b[0m\u001b[1;33m,\u001b[0m\u001b[0my_data\u001b[0m\u001b[1;33m)\u001b[0m\u001b[1;33m\u001b[0m\u001b[0m\n\u001b[0m",
      "\u001b[1;32m<ipython-input-101-4a22794cac32>\u001b[0m in \u001b[0;36mCostFunction\u001b[1;34m(W, x, y)\u001b[0m\n\u001b[0;32m      2\u001b[0m     \u001b[0mm\u001b[0m \u001b[1;33m=\u001b[0m \u001b[0my\u001b[0m\u001b[1;33m.\u001b[0m\u001b[0msize\u001b[0m\u001b[1;33m\u001b[0m\u001b[0m\n\u001b[0;32m      3\u001b[0m     \u001b[1;32mfor\u001b[0m \u001b[0mi\u001b[0m \u001b[1;32min\u001b[0m \u001b[0mrange\u001b[0m\u001b[1;33m(\u001b[0m\u001b[1;36m10000\u001b[0m\u001b[1;33m)\u001b[0m\u001b[1;33m:\u001b[0m\u001b[1;33m\u001b[0m\u001b[0m\n\u001b[1;32m----> 4\u001b[1;33m         \u001b[0mh\u001b[0m \u001b[1;33m=\u001b[0m \u001b[0msigmoid\u001b[0m\u001b[1;33m(\u001b[0m\u001b[0mnp\u001b[0m\u001b[1;33m.\u001b[0m\u001b[0mdot\u001b[0m\u001b[1;33m(\u001b[0m\u001b[0mW\u001b[0m\u001b[1;33m,\u001b[0m\u001b[0mx\u001b[0m\u001b[1;33m)\u001b[0m\u001b[1;33m)\u001b[0m\u001b[1;33m\u001b[0m\u001b[0m\n\u001b[0m\u001b[0;32m      5\u001b[0m         \u001b[0mcost\u001b[0m \u001b[1;33m=\u001b[0m \u001b[1;33m-\u001b[0m\u001b[1;33m(\u001b[0m\u001b[1;36m1\u001b[0m\u001b[1;33m/\u001b[0m\u001b[0mm\u001b[0m\u001b[1;33m)\u001b[0m \u001b[1;33m*\u001b[0m \u001b[0msum\u001b[0m\u001b[1;33m(\u001b[0m\u001b[0my\u001b[0m\u001b[1;33m*\u001b[0m\u001b[0mnp\u001b[0m\u001b[1;33m.\u001b[0m\u001b[0mlog\u001b[0m\u001b[1;33m(\u001b[0m\u001b[0mh\u001b[0m\u001b[1;33m)\u001b[0m \u001b[1;33m+\u001b[0m \u001b[1;33m(\u001b[0m\u001b[1;36m1\u001b[0m\u001b[1;33m-\u001b[0m\u001b[0my\u001b[0m\u001b[1;33m)\u001b[0m\u001b[1;33m*\u001b[0m\u001b[0mnp\u001b[0m\u001b[1;33m.\u001b[0m\u001b[0mlog\u001b[0m\u001b[1;33m(\u001b[0m\u001b[1;36m1\u001b[0m\u001b[1;33m-\u001b[0m\u001b[0mh\u001b[0m\u001b[1;33m)\u001b[0m\u001b[1;33m)\u001b[0m\u001b[1;33m\u001b[0m\u001b[0m\n\u001b[0;32m      6\u001b[0m         \u001b[1;32mif\u001b[0m \u001b[1;33m(\u001b[0m\u001b[0mi\u001b[0m\u001b[1;33m%\u001b[0m\u001b[1;36m100\u001b[0m\u001b[1;33m)\u001b[0m \u001b[1;33m==\u001b[0m\u001b[1;36m0\u001b[0m\u001b[1;33m:\u001b[0m\u001b[1;33m\u001b[0m\u001b[0m\n",
      "\u001b[1;31mValueError\u001b[0m: shapes (3,) and (7032,) not aligned: 3 (dim 0) != 7032 (dim 0)"
     ]
    }
   ],
   "source": [
    "CostFunction(W, x, y_data)"
   ]
  },
  {
   "cell_type": "code",
   "execution_count": 187,
   "metadata": {},
   "outputs": [
    {
     "data": {
      "image/png": "[encoded data removed]",
      "text/plain": [
       "<matplotlib.figure.Figure at 0x1f7f5828b70>"
      ]
     },
     "metadata": {},
     "output_type": "display_data"
    }
   ],
   "source": [
    "sns.factorplot(x='TechSupport', col='Churn', kind='count', data=tele_data);"
   ]
  },
  {
   "cell_type": "code",
   "execution_count": 163,
   "metadata": {},
   "outputs": [
    {
     "data": {
      "image/png": "[encoded data removed]",
      "text/plain": [
       "<matplotlib.figure.Figure at 0x1f7ee4376d8>"
      ]
     },
     "metadata": {},
     "output_type": "display_data"
    }
   ],
   "source": [
    "sns.factorplot(x='PaperlessBilling', col='Churn', kind='count', data=tele_data);"
   ]
  },
  {
   "cell_type": "code",
   "execution_count": 167,
   "metadata": {},
   "outputs": [
    {
     "data": {
      "image/png": "[encoded data removed]",
      "text/plain": [
       "<matplotlib.figure.Figure at 0x1f7f4cfe860>"
      ]
     },
     "metadata": {},
     "output_type": "display_data"
    }
   ],
   "source": [
    "sns.factorplot(x='PaymentMethod', col='Churn', kind='count', size=10, data=tele_data);"
   ]
  },
  {
   "cell_type": "code",
   "execution_count": 168,
   "metadata": {},
   "outputs": [],
   "source": [
    "churny = tele_data[tele_data['Churn'] == 'Yes']"
   ]
  },
  {
   "cell_type": "code",
   "execution_count": 169,
   "metadata": {},
   "outputs": [
    {
     "data": {
      "text/html": [
       "<div>\n",
       "<style scoped>\n",
       "    .dataframe tbody tr th:only-of-type {\n",
       "        vertical-align: middle;\n",
       "    }\n",
       "\n",
       "    .dataframe tbody tr th {\n",
       "        vertical-align: top;\n",
       "    }\n",
       "\n",
       "    .dataframe thead th {\n",
       "        text-align: right;\n",
       "    }\n",
       "</style>\n",
       "<table border=\"1\" class=\"dataframe\">\n",
       "  <thead>\n",
       "    <tr style=\"text-align: right;\">\n",
       "      <th></th>\n",
       "      <th>SeniorCitizen</th>\n",
       "      <th>tenure</th>\n",
       "      <th>MonthlyCharges</th>\n",
       "      <th>TotalCharges</th>\n",
       "    </tr>\n",
       "  </thead>\n",
       "  <tbody>\n",
       "    <tr>\n",
       "      <th>count</th>\n",
       "      <td>1869.000000</td>\n",
       "      <td>1869.000000</td>\n",
       "      <td>1869.000000</td>\n",
       "      <td>1869.000000</td>\n",
       "    </tr>\n",
       "    <tr>\n",
       "      <th>mean</th>\n",
       "      <td>0.254682</td>\n",
       "      <td>17.979133</td>\n",
       "      <td>74.441332</td>\n",
       "      <td>1531.796094</td>\n",
       "    </tr>\n",
       "    <tr>\n",
       "      <th>std</th>\n",
       "      <td>0.435799</td>\n",
       "      <td>19.531123</td>\n",
       "      <td>24.666053</td>\n",
       "      <td>1890.822994</td>\n",
       "    </tr>\n",
       "    <tr>\n",
       "      <th>min</th>\n",
       "      <td>0.000000</td>\n",
       "      <td>1.000000</td>\n",
       "      <td>18.850000</td>\n",
       "      <td>18.850000</td>\n",
       "    </tr>\n",
       "    <tr>\n",
       "      <th>25%</th>\n",
       "      <td>0.000000</td>\n",
       "      <td>2.000000</td>\n",
       "      <td>56.150000</td>\n",
       "      <td>134.500000</td>\n",
       "    </tr>\n",
       "    <tr>\n",
       "      <th>50%</th>\n",
       "      <td>0.000000</td>\n",
       "      <td>10.000000</td>\n",
       "      <td>79.650000</td>\n",
       "      <td>703.550000</td>\n",
       "    </tr>\n",
       "    <tr>\n",
       "      <th>75%</th>\n",
       "      <td>1.000000</td>\n",
       "      <td>29.000000</td>\n",
       "      <td>94.200000</td>\n",
       "      <td>2331.300000</td>\n",
       "    </tr>\n",
       "    <tr>\n",
       "      <th>max</th>\n",
       "      <td>1.000000</td>\n",
       "      <td>72.000000</td>\n",
       "      <td>118.350000</td>\n",
       "      <td>8684.800000</td>\n",
       "    </tr>\n",
       "  </tbody>\n",
       "</table>\n",
       "</div>"
      ],
      "text/plain": [
       "       SeniorCitizen       tenure  MonthlyCharges  TotalCharges\n",
       "count    1869.000000  1869.000000     1869.000000   1869.000000\n",
       "mean        0.254682    17.979133       74.441332   1531.796094\n",
       "std         0.435799    19.531123       24.666053   1890.822994\n",
       "min         0.000000     1.000000       18.850000     18.850000\n",
       "25%         0.000000     2.000000       56.150000    134.500000\n",
       "50%         0.000000    10.000000       79.650000    703.550000\n",
       "75%         1.000000    29.000000       94.200000   2331.300000\n",
       "max         1.000000    72.000000      118.350000   8684.800000"
      ]
     },
     "execution_count": 169,
     "metadata": {},
     "output_type": "execute_result"
    }
   ],
   "source": [
    "churny.describe()"
   ]
  },
  {
   "cell_type": "code",
   "execution_count": 171,
   "metadata": {},
   "outputs": [
    {
     "data": {
      "image/png": "[encoded data removed]",
      "text/plain": [
       "<matplotlib.figure.Figure at 0x1f7ede86710>"
      ]
     },
     "metadata": {},
     "output_type": "display_data"
    },
    {
     "data": {
      "image/png": "[encoded data removed]",
      "text/plain": [
       "<matplotlib.figure.Figure at 0x1f7f5911358>"
      ]
     },
     "metadata": {},
     "output_type": "display_data"
    }
   ],
   "source": [
    "sns.factorplot(x='Dependents', col='Churn', kind='count', data=churny);\n",
    "sns.factorplot(x='Partner', col='Churn', kind='count', data=churny);"
   ]
  },
  {
   "cell_type": "code",
   "execution_count": 194,
   "metadata": {},
   "outputs": [
    {
     "data": {
      "image/png": "[encoded data removed]",
      "text/plain": [
       "<matplotlib.figure.Figure at 0x1f7ee4f77b8>"
      ]
     },
     "metadata": {},
     "output_type": "display_data"
    }
   ],
   "source": [
    "sns.factorplot(x='Partner', col='StreamingMovies', kind='count', data=tele_data);"
   ]
  },
  {
   "cell_type": "code",
   "execution_count": 195,
   "metadata": {},
   "outputs": [
    {
     "data": {
      "image/png": "[encoded data removed]",
      "text/plain": [
       "<matplotlib.figure.Figure at 0x1f7f55f7e10>"
      ]
     },
     "metadata": {},
     "output_type": "display_data"
    }
   ],
   "source": [
    "sns.factorplot(x='Dependents', col='StreamingMovies', kind='count', data=tele_data);"
   ]
  },
  {
   "cell_type": "code",
   "execution_count": 196,
   "metadata": {},
   "outputs": [
    {
     "data": {
      "image/png": "[encoded data removed]",
      "text/plain": [
       "<matplotlib.figure.Figure at 0x1f7f4a04a20>"
      ]
     },
     "metadata": {},
     "output_type": "display_data"
    }
   ],
   "source": [
    "sns.factorplot(x='Dependents', col='Contract', kind='count', data=tele_data);"
   ]
  },
  {
   "cell_type": "code",
   "execution_count": 201,
   "metadata": {},
   "outputs": [
    {
     "data": {
      "image/png": "[encoded data removed]",
      "text/plain": [
       "<matplotlib.figure.Figure at 0x1f7f56fae48>"
      ]
     },
     "metadata": {},
     "output_type": "display_data"
    }
   ],
   "source": [
    "sns.factorplot(x='InternetService', col='tenureBin', kind='count', data=tele_data);"
   ]
  },
  {
   "cell_type": "code",
   "execution_count": null,
   "metadata": {},
   "outputs": [],
   "source": []
  },
  {
   "cell_type": "code",
   "execution_count": null,
   "metadata": {},
   "outputs": [],
   "source": []
  }
 ],
 "metadata": {
  "kernelspec": {
   "display_name": "Python 3",
   "language": "python",
   "name": "python3"
  },
  "language_info": {
   "codemirror_mode": {
    "name": "ipython",
    "version": 3
   },
   "file_extension": ".py",
   "mimetype": "text/x-python",
   "name": "python",
   "nbconvert_exporter": "python",
   "pygments_lexer": "ipython3",
   "version": "3.6.4"
  }
 },
 "nbformat": 4,
 "nbformat_minor": 2
}
